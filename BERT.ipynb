{
  "nbformat": 4,
  "nbformat_minor": 0,
  "metadata": {
    "colab": {
      "name": "BERT.ipynb",
      "provenance": [],
      "collapsed_sections": [],
      "authorship_tag": "ABX9TyO0Ot77ktI/oq6dLgElSP3K",
      "include_colab_link": true
    },
    "kernelspec": {
      "name": "python3",
      "display_name": "Python 3"
    },
    "accelerator": "GPU",
    "widgets": {
      "application/vnd.jupyter.widget-state+json": {
        "ecd03c734628427c94eb07912c5f1914": {
          "model_module": "@jupyter-widgets/controls",
          "model_name": "HBoxModel",
          "state": {
            "_view_name": "HBoxView",
            "_dom_classes": [],
            "_model_name": "HBoxModel",
            "_view_module": "@jupyter-widgets/controls",
            "_model_module_version": "1.5.0",
            "_view_count": null,
            "_view_module_version": "1.5.0",
            "box_style": "",
            "layout": "IPY_MODEL_abbd6c76e6194cc882eb6da5d1aa10ba",
            "_model_module": "@jupyter-widgets/controls",
            "children": [
              "IPY_MODEL_0106a660e0dd4a27a64ec8cbc0384602",
              "IPY_MODEL_704bffc143954164bd428f891e1023df"
            ]
          }
        },
        "abbd6c76e6194cc882eb6da5d1aa10ba": {
          "model_module": "@jupyter-widgets/base",
          "model_name": "LayoutModel",
          "state": {
            "_view_name": "LayoutView",
            "grid_template_rows": null,
            "right": null,
            "justify_content": null,
            "_view_module": "@jupyter-widgets/base",
            "overflow": null,
            "_model_module_version": "1.2.0",
            "_view_count": null,
            "flex_flow": null,
            "width": null,
            "min_width": null,
            "border": null,
            "align_items": null,
            "bottom": null,
            "_model_module": "@jupyter-widgets/base",
            "top": null,
            "grid_column": null,
            "overflow_y": null,
            "overflow_x": null,
            "grid_auto_flow": null,
            "grid_area": null,
            "grid_template_columns": null,
            "flex": null,
            "_model_name": "LayoutModel",
            "justify_items": null,
            "grid_row": null,
            "max_height": null,
            "align_content": null,
            "visibility": null,
            "align_self": null,
            "height": null,
            "min_height": null,
            "padding": null,
            "grid_auto_rows": null,
            "grid_gap": null,
            "max_width": null,
            "order": null,
            "_view_module_version": "1.2.0",
            "grid_template_areas": null,
            "object_position": null,
            "object_fit": null,
            "grid_auto_columns": null,
            "margin": null,
            "display": null,
            "left": null
          }
        },
        "0106a660e0dd4a27a64ec8cbc0384602": {
          "model_module": "@jupyter-widgets/controls",
          "model_name": "FloatProgressModel",
          "state": {
            "_view_name": "ProgressView",
            "style": "IPY_MODEL_a81fb82df24d4318855bd44032a1e2d7",
            "_dom_classes": [],
            "description": "Downloading: 100%",
            "_model_name": "FloatProgressModel",
            "bar_style": "success",
            "max": 213450,
            "_view_module": "@jupyter-widgets/controls",
            "_model_module_version": "1.5.0",
            "value": 213450,
            "_view_count": null,
            "_view_module_version": "1.5.0",
            "orientation": "horizontal",
            "min": 0,
            "description_tooltip": null,
            "_model_module": "@jupyter-widgets/controls",
            "layout": "IPY_MODEL_b37f142fae844bc88c4d89d3fed829d6"
          }
        },
        "704bffc143954164bd428f891e1023df": {
          "model_module": "@jupyter-widgets/controls",
          "model_name": "HTMLModel",
          "state": {
            "_view_name": "HTMLView",
            "style": "IPY_MODEL_4126ee89ed744e9d89369221f78b22ee",
            "_dom_classes": [],
            "description": "",
            "_model_name": "HTMLModel",
            "placeholder": "​",
            "_view_module": "@jupyter-widgets/controls",
            "_model_module_version": "1.5.0",
            "value": " 213k/213k [00:00&lt;00:00, 2.03MB/s]",
            "_view_count": null,
            "_view_module_version": "1.5.0",
            "description_tooltip": null,
            "_model_module": "@jupyter-widgets/controls",
            "layout": "IPY_MODEL_032d3266de7743de8b4f8f12c9a06600"
          }
        },
        "a81fb82df24d4318855bd44032a1e2d7": {
          "model_module": "@jupyter-widgets/controls",
          "model_name": "ProgressStyleModel",
          "state": {
            "_view_name": "StyleView",
            "_model_name": "ProgressStyleModel",
            "description_width": "initial",
            "_view_module": "@jupyter-widgets/base",
            "_model_module_version": "1.5.0",
            "_view_count": null,
            "_view_module_version": "1.2.0",
            "bar_color": null,
            "_model_module": "@jupyter-widgets/controls"
          }
        },
        "b37f142fae844bc88c4d89d3fed829d6": {
          "model_module": "@jupyter-widgets/base",
          "model_name": "LayoutModel",
          "state": {
            "_view_name": "LayoutView",
            "grid_template_rows": null,
            "right": null,
            "justify_content": null,
            "_view_module": "@jupyter-widgets/base",
            "overflow": null,
            "_model_module_version": "1.2.0",
            "_view_count": null,
            "flex_flow": null,
            "width": null,
            "min_width": null,
            "border": null,
            "align_items": null,
            "bottom": null,
            "_model_module": "@jupyter-widgets/base",
            "top": null,
            "grid_column": null,
            "overflow_y": null,
            "overflow_x": null,
            "grid_auto_flow": null,
            "grid_area": null,
            "grid_template_columns": null,
            "flex": null,
            "_model_name": "LayoutModel",
            "justify_items": null,
            "grid_row": null,
            "max_height": null,
            "align_content": null,
            "visibility": null,
            "align_self": null,
            "height": null,
            "min_height": null,
            "padding": null,
            "grid_auto_rows": null,
            "grid_gap": null,
            "max_width": null,
            "order": null,
            "_view_module_version": "1.2.0",
            "grid_template_areas": null,
            "object_position": null,
            "object_fit": null,
            "grid_auto_columns": null,
            "margin": null,
            "display": null,
            "left": null
          }
        },
        "4126ee89ed744e9d89369221f78b22ee": {
          "model_module": "@jupyter-widgets/controls",
          "model_name": "DescriptionStyleModel",
          "state": {
            "_view_name": "StyleView",
            "_model_name": "DescriptionStyleModel",
            "description_width": "",
            "_view_module": "@jupyter-widgets/base",
            "_model_module_version": "1.5.0",
            "_view_count": null,
            "_view_module_version": "1.2.0",
            "_model_module": "@jupyter-widgets/controls"
          }
        },
        "032d3266de7743de8b4f8f12c9a06600": {
          "model_module": "@jupyter-widgets/base",
          "model_name": "LayoutModel",
          "state": {
            "_view_name": "LayoutView",
            "grid_template_rows": null,
            "right": null,
            "justify_content": null,
            "_view_module": "@jupyter-widgets/base",
            "overflow": null,
            "_model_module_version": "1.2.0",
            "_view_count": null,
            "flex_flow": null,
            "width": null,
            "min_width": null,
            "border": null,
            "align_items": null,
            "bottom": null,
            "_model_module": "@jupyter-widgets/base",
            "top": null,
            "grid_column": null,
            "overflow_y": null,
            "overflow_x": null,
            "grid_auto_flow": null,
            "grid_area": null,
            "grid_template_columns": null,
            "flex": null,
            "_model_name": "LayoutModel",
            "justify_items": null,
            "grid_row": null,
            "max_height": null,
            "align_content": null,
            "visibility": null,
            "align_self": null,
            "height": null,
            "min_height": null,
            "padding": null,
            "grid_auto_rows": null,
            "grid_gap": null,
            "max_width": null,
            "order": null,
            "_view_module_version": "1.2.0",
            "grid_template_areas": null,
            "object_position": null,
            "object_fit": null,
            "grid_auto_columns": null,
            "margin": null,
            "display": null,
            "left": null
          }
        },
        "5a573f0b66254fd2bdca43c890f4fd35": {
          "model_module": "@jupyter-widgets/controls",
          "model_name": "HBoxModel",
          "state": {
            "_view_name": "HBoxView",
            "_dom_classes": [],
            "_model_name": "HBoxModel",
            "_view_module": "@jupyter-widgets/controls",
            "_model_module_version": "1.5.0",
            "_view_count": null,
            "_view_module_version": "1.5.0",
            "box_style": "",
            "layout": "IPY_MODEL_7726213fe55843b698126783e41b3a05",
            "_model_module": "@jupyter-widgets/controls",
            "children": [
              "IPY_MODEL_bba1149ba7324a0daf1a6787f1935dcb",
              "IPY_MODEL_0f337fcd37ce4c3babfef3fc222d48e8"
            ]
          }
        },
        "7726213fe55843b698126783e41b3a05": {
          "model_module": "@jupyter-widgets/base",
          "model_name": "LayoutModel",
          "state": {
            "_view_name": "LayoutView",
            "grid_template_rows": null,
            "right": null,
            "justify_content": null,
            "_view_module": "@jupyter-widgets/base",
            "overflow": null,
            "_model_module_version": "1.2.0",
            "_view_count": null,
            "flex_flow": null,
            "width": null,
            "min_width": null,
            "border": null,
            "align_items": null,
            "bottom": null,
            "_model_module": "@jupyter-widgets/base",
            "top": null,
            "grid_column": null,
            "overflow_y": null,
            "overflow_x": null,
            "grid_auto_flow": null,
            "grid_area": null,
            "grid_template_columns": null,
            "flex": null,
            "_model_name": "LayoutModel",
            "justify_items": null,
            "grid_row": null,
            "max_height": null,
            "align_content": null,
            "visibility": null,
            "align_self": null,
            "height": null,
            "min_height": null,
            "padding": null,
            "grid_auto_rows": null,
            "grid_gap": null,
            "max_width": null,
            "order": null,
            "_view_module_version": "1.2.0",
            "grid_template_areas": null,
            "object_position": null,
            "object_fit": null,
            "grid_auto_columns": null,
            "margin": null,
            "display": null,
            "left": null
          }
        },
        "bba1149ba7324a0daf1a6787f1935dcb": {
          "model_module": "@jupyter-widgets/controls",
          "model_name": "FloatProgressModel",
          "state": {
            "_view_name": "ProgressView",
            "style": "IPY_MODEL_7789c370a7f14079a5e4bb76107b1ea8",
            "_dom_classes": [],
            "description": "Downloading: 100%",
            "_model_name": "FloatProgressModel",
            "bar_style": "success",
            "max": 433,
            "_view_module": "@jupyter-widgets/controls",
            "_model_module_version": "1.5.0",
            "value": 433,
            "_view_count": null,
            "_view_module_version": "1.5.0",
            "orientation": "horizontal",
            "min": 0,
            "description_tooltip": null,
            "_model_module": "@jupyter-widgets/controls",
            "layout": "IPY_MODEL_0cbba15bca414074890e22eeecd5800e"
          }
        },
        "0f337fcd37ce4c3babfef3fc222d48e8": {
          "model_module": "@jupyter-widgets/controls",
          "model_name": "HTMLModel",
          "state": {
            "_view_name": "HTMLView",
            "style": "IPY_MODEL_26ef20bfe8d546009c4f1509d29ac30e",
            "_dom_classes": [],
            "description": "",
            "_model_name": "HTMLModel",
            "placeholder": "​",
            "_view_module": "@jupyter-widgets/controls",
            "_model_module_version": "1.5.0",
            "value": " 433/433 [00:00&lt;00:00, 1.78kB/s]",
            "_view_count": null,
            "_view_module_version": "1.5.0",
            "description_tooltip": null,
            "_model_module": "@jupyter-widgets/controls",
            "layout": "IPY_MODEL_d355826fede9494b8e1c8e395da098ec"
          }
        },
        "7789c370a7f14079a5e4bb76107b1ea8": {
          "model_module": "@jupyter-widgets/controls",
          "model_name": "ProgressStyleModel",
          "state": {
            "_view_name": "StyleView",
            "_model_name": "ProgressStyleModel",
            "description_width": "initial",
            "_view_module": "@jupyter-widgets/base",
            "_model_module_version": "1.5.0",
            "_view_count": null,
            "_view_module_version": "1.2.0",
            "bar_color": null,
            "_model_module": "@jupyter-widgets/controls"
          }
        },
        "0cbba15bca414074890e22eeecd5800e": {
          "model_module": "@jupyter-widgets/base",
          "model_name": "LayoutModel",
          "state": {
            "_view_name": "LayoutView",
            "grid_template_rows": null,
            "right": null,
            "justify_content": null,
            "_view_module": "@jupyter-widgets/base",
            "overflow": null,
            "_model_module_version": "1.2.0",
            "_view_count": null,
            "flex_flow": null,
            "width": null,
            "min_width": null,
            "border": null,
            "align_items": null,
            "bottom": null,
            "_model_module": "@jupyter-widgets/base",
            "top": null,
            "grid_column": null,
            "overflow_y": null,
            "overflow_x": null,
            "grid_auto_flow": null,
            "grid_area": null,
            "grid_template_columns": null,
            "flex": null,
            "_model_name": "LayoutModel",
            "justify_items": null,
            "grid_row": null,
            "max_height": null,
            "align_content": null,
            "visibility": null,
            "align_self": null,
            "height": null,
            "min_height": null,
            "padding": null,
            "grid_auto_rows": null,
            "grid_gap": null,
            "max_width": null,
            "order": null,
            "_view_module_version": "1.2.0",
            "grid_template_areas": null,
            "object_position": null,
            "object_fit": null,
            "grid_auto_columns": null,
            "margin": null,
            "display": null,
            "left": null
          }
        },
        "26ef20bfe8d546009c4f1509d29ac30e": {
          "model_module": "@jupyter-widgets/controls",
          "model_name": "DescriptionStyleModel",
          "state": {
            "_view_name": "StyleView",
            "_model_name": "DescriptionStyleModel",
            "description_width": "",
            "_view_module": "@jupyter-widgets/base",
            "_model_module_version": "1.5.0",
            "_view_count": null,
            "_view_module_version": "1.2.0",
            "_model_module": "@jupyter-widgets/controls"
          }
        },
        "d355826fede9494b8e1c8e395da098ec": {
          "model_module": "@jupyter-widgets/base",
          "model_name": "LayoutModel",
          "state": {
            "_view_name": "LayoutView",
            "grid_template_rows": null,
            "right": null,
            "justify_content": null,
            "_view_module": "@jupyter-widgets/base",
            "overflow": null,
            "_model_module_version": "1.2.0",
            "_view_count": null,
            "flex_flow": null,
            "width": null,
            "min_width": null,
            "border": null,
            "align_items": null,
            "bottom": null,
            "_model_module": "@jupyter-widgets/base",
            "top": null,
            "grid_column": null,
            "overflow_y": null,
            "overflow_x": null,
            "grid_auto_flow": null,
            "grid_area": null,
            "grid_template_columns": null,
            "flex": null,
            "_model_name": "LayoutModel",
            "justify_items": null,
            "grid_row": null,
            "max_height": null,
            "align_content": null,
            "visibility": null,
            "align_self": null,
            "height": null,
            "min_height": null,
            "padding": null,
            "grid_auto_rows": null,
            "grid_gap": null,
            "max_width": null,
            "order": null,
            "_view_module_version": "1.2.0",
            "grid_template_areas": null,
            "object_position": null,
            "object_fit": null,
            "grid_auto_columns": null,
            "margin": null,
            "display": null,
            "left": null
          }
        },
        "77627b789e5e4fb48dbb30b8bdb124cd": {
          "model_module": "@jupyter-widgets/controls",
          "model_name": "HBoxModel",
          "state": {
            "_view_name": "HBoxView",
            "_dom_classes": [],
            "_model_name": "HBoxModel",
            "_view_module": "@jupyter-widgets/controls",
            "_model_module_version": "1.5.0",
            "_view_count": null,
            "_view_module_version": "1.5.0",
            "box_style": "",
            "layout": "IPY_MODEL_9ebcb15c786c4b6d960d707bdda16657",
            "_model_module": "@jupyter-widgets/controls",
            "children": [
              "IPY_MODEL_478b9d5a234d44109b77273eb62e636f",
              "IPY_MODEL_c246225440eb41f8b25acf8712be2c6a"
            ]
          }
        },
        "9ebcb15c786c4b6d960d707bdda16657": {
          "model_module": "@jupyter-widgets/base",
          "model_name": "LayoutModel",
          "state": {
            "_view_name": "LayoutView",
            "grid_template_rows": null,
            "right": null,
            "justify_content": null,
            "_view_module": "@jupyter-widgets/base",
            "overflow": null,
            "_model_module_version": "1.2.0",
            "_view_count": null,
            "flex_flow": null,
            "width": null,
            "min_width": null,
            "border": null,
            "align_items": null,
            "bottom": null,
            "_model_module": "@jupyter-widgets/base",
            "top": null,
            "grid_column": null,
            "overflow_y": null,
            "overflow_x": null,
            "grid_auto_flow": null,
            "grid_area": null,
            "grid_template_columns": null,
            "flex": null,
            "_model_name": "LayoutModel",
            "justify_items": null,
            "grid_row": null,
            "max_height": null,
            "align_content": null,
            "visibility": null,
            "align_self": null,
            "height": null,
            "min_height": null,
            "padding": null,
            "grid_auto_rows": null,
            "grid_gap": null,
            "max_width": null,
            "order": null,
            "_view_module_version": "1.2.0",
            "grid_template_areas": null,
            "object_position": null,
            "object_fit": null,
            "grid_auto_columns": null,
            "margin": null,
            "display": null,
            "left": null
          }
        },
        "478b9d5a234d44109b77273eb62e636f": {
          "model_module": "@jupyter-widgets/controls",
          "model_name": "FloatProgressModel",
          "state": {
            "_view_name": "ProgressView",
            "style": "IPY_MODEL_54ebad690f0e43e68f286b7828c2c1a5",
            "_dom_classes": [],
            "description": "Downloading: 100%",
            "_model_name": "FloatProgressModel",
            "bar_style": "success",
            "max": 435779157,
            "_view_module": "@jupyter-widgets/controls",
            "_model_module_version": "1.5.0",
            "value": 435779157,
            "_view_count": null,
            "_view_module_version": "1.5.0",
            "orientation": "horizontal",
            "min": 0,
            "description_tooltip": null,
            "_model_module": "@jupyter-widgets/controls",
            "layout": "IPY_MODEL_fc1858faea7a4a3693522841d4aae5d7"
          }
        },
        "c246225440eb41f8b25acf8712be2c6a": {
          "model_module": "@jupyter-widgets/controls",
          "model_name": "HTMLModel",
          "state": {
            "_view_name": "HTMLView",
            "style": "IPY_MODEL_c9fa5232597749459809f5f4c0a9bd66",
            "_dom_classes": [],
            "description": "",
            "_model_name": "HTMLModel",
            "placeholder": "​",
            "_view_module": "@jupyter-widgets/controls",
            "_model_module_version": "1.5.0",
            "value": " 436M/436M [12:13&lt;00:00, 594kB/s]",
            "_view_count": null,
            "_view_module_version": "1.5.0",
            "description_tooltip": null,
            "_model_module": "@jupyter-widgets/controls",
            "layout": "IPY_MODEL_39de77d24ab44f06bb9b709324938b0e"
          }
        },
        "54ebad690f0e43e68f286b7828c2c1a5": {
          "model_module": "@jupyter-widgets/controls",
          "model_name": "ProgressStyleModel",
          "state": {
            "_view_name": "StyleView",
            "_model_name": "ProgressStyleModel",
            "description_width": "initial",
            "_view_module": "@jupyter-widgets/base",
            "_model_module_version": "1.5.0",
            "_view_count": null,
            "_view_module_version": "1.2.0",
            "bar_color": null,
            "_model_module": "@jupyter-widgets/controls"
          }
        },
        "fc1858faea7a4a3693522841d4aae5d7": {
          "model_module": "@jupyter-widgets/base",
          "model_name": "LayoutModel",
          "state": {
            "_view_name": "LayoutView",
            "grid_template_rows": null,
            "right": null,
            "justify_content": null,
            "_view_module": "@jupyter-widgets/base",
            "overflow": null,
            "_model_module_version": "1.2.0",
            "_view_count": null,
            "flex_flow": null,
            "width": null,
            "min_width": null,
            "border": null,
            "align_items": null,
            "bottom": null,
            "_model_module": "@jupyter-widgets/base",
            "top": null,
            "grid_column": null,
            "overflow_y": null,
            "overflow_x": null,
            "grid_auto_flow": null,
            "grid_area": null,
            "grid_template_columns": null,
            "flex": null,
            "_model_name": "LayoutModel",
            "justify_items": null,
            "grid_row": null,
            "max_height": null,
            "align_content": null,
            "visibility": null,
            "align_self": null,
            "height": null,
            "min_height": null,
            "padding": null,
            "grid_auto_rows": null,
            "grid_gap": null,
            "max_width": null,
            "order": null,
            "_view_module_version": "1.2.0",
            "grid_template_areas": null,
            "object_position": null,
            "object_fit": null,
            "grid_auto_columns": null,
            "margin": null,
            "display": null,
            "left": null
          }
        },
        "c9fa5232597749459809f5f4c0a9bd66": {
          "model_module": "@jupyter-widgets/controls",
          "model_name": "DescriptionStyleModel",
          "state": {
            "_view_name": "StyleView",
            "_model_name": "DescriptionStyleModel",
            "description_width": "",
            "_view_module": "@jupyter-widgets/base",
            "_model_module_version": "1.5.0",
            "_view_count": null,
            "_view_module_version": "1.2.0",
            "_model_module": "@jupyter-widgets/controls"
          }
        },
        "39de77d24ab44f06bb9b709324938b0e": {
          "model_module": "@jupyter-widgets/base",
          "model_name": "LayoutModel",
          "state": {
            "_view_name": "LayoutView",
            "grid_template_rows": null,
            "right": null,
            "justify_content": null,
            "_view_module": "@jupyter-widgets/base",
            "overflow": null,
            "_model_module_version": "1.2.0",
            "_view_count": null,
            "flex_flow": null,
            "width": null,
            "min_width": null,
            "border": null,
            "align_items": null,
            "bottom": null,
            "_model_module": "@jupyter-widgets/base",
            "top": null,
            "grid_column": null,
            "overflow_y": null,
            "overflow_x": null,
            "grid_auto_flow": null,
            "grid_area": null,
            "grid_template_columns": null,
            "flex": null,
            "_model_name": "LayoutModel",
            "justify_items": null,
            "grid_row": null,
            "max_height": null,
            "align_content": null,
            "visibility": null,
            "align_self": null,
            "height": null,
            "min_height": null,
            "padding": null,
            "grid_auto_rows": null,
            "grid_gap": null,
            "max_width": null,
            "order": null,
            "_view_module_version": "1.2.0",
            "grid_template_areas": null,
            "object_position": null,
            "object_fit": null,
            "grid_auto_columns": null,
            "margin": null,
            "display": null,
            "left": null
          }
        }
      }
    }
  },
  "cells": [
    {
      "cell_type": "markdown",
      "metadata": {
        "id": "view-in-github",
        "colab_type": "text"
      },
      "source": [
        "<a href=\"https://colab.research.google.com/github/cemeiq/100-Days-Of-ML-Code/blob/master/BERT.ipynb\" target=\"_parent\"><img src=\"https://colab.research.google.com/assets/colab-badge.svg\" alt=\"Open In Colab\"/></a>"
      ]
    },
    {
      "cell_type": "code",
      "metadata": {
        "id": "LmgLgW_IxhEt"
      },
      "source": [
        "import os\n",
        "import networkx as nx\n",
        "import numpy as np\n",
        "import torch\n",
        "import torch.nn as nn\n",
        "import torch.optim as optim\n",
        "import matplotlib.pyplot as plt\n",
        "from argparse import ArgumentParser\n",
        "import logging\n",
        "import pickle\n",
        "import pandas as pd\n",
        "import torch\n",
        "from torch.utils.data import TensorDataset, DataLoader, RandomSampler, SequentialSampler\n",
        "from keras.preprocessing.sequence import pad_sequences\n",
        "from sklearn.model_selection import train_test_split\n",
        "\n",
        "from tqdm import tqdm, trange\n",
        "import pandas as pd\n",
        "import io\n",
        "import numpy as np\n",
        "import matplotlib.pyplot as plt\n",
        "%matplotlib inline\n",
        "\n",
        "import torch\n",
        "import os\n"
      ],
      "execution_count": 6,
      "outputs": []
    },
    {
      "cell_type": "code",
      "metadata": {
        "id": "n6H5uwAM-sZe"
      },
      "source": [
        "device = torch.device(\"cuda\" if torch.cuda.is_available() else \"cpu\")\n",
        "n_gpu = torch.cuda.device_count()\n",
        "torch.cuda.get_device_name(0)"
      ],
      "execution_count": null,
      "outputs": []
    },
    {
      "cell_type": "code",
      "metadata": {
        "id": "iGl--zbNx0jJ",
        "outputId": "1c0b6a98-0b0c-4d33-f98a-b966c105ebe1",
        "colab": {
          "base_uri": "https://localhost:8080/"
        }
      },
      "source": [
        "!pip install -qq transformers\n"
      ],
      "execution_count": 14,
      "outputs": [
        {
          "output_type": "stream",
          "text": [
            "\u001b[K     |████████████████████████████████| 1.3MB 16.0MB/s \n",
            "\u001b[K     |████████████████████████████████| 2.9MB 54.6MB/s \n",
            "\u001b[K     |████████████████████████████████| 890kB 51.7MB/s \n",
            "\u001b[K     |████████████████████████████████| 1.1MB 45.9MB/s \n",
            "\u001b[?25h  Building wheel for sacremoses (setup.py) ... \u001b[?25l\u001b[?25hdone\n"
          ],
          "name": "stdout"
        }
      ]
    },
    {
      "cell_type": "code",
      "metadata": {
        "id": "OHyT7O-nYuFP"
      },
      "source": [
        "import transformers\n",
        "from transformers import BertModel, BertTokenizer, AdamW, get_linear_schedule_with_warmup\n",
        "import torch\n",
        "import numpy as np\n",
        "import pandas as pd\n",
        "import seaborn as sns\n",
        "from pylab import rcParams\n",
        "import matplotlib.pyplot as plt\n",
        "from matplotlib import rc\n",
        "from sklearn.model_selection import train_test_split\n",
        "from sklearn.metrics import confusion_matrix, classification_report\n",
        "from collections import defaultdict\n",
        "from textwrap import wrap\n",
        "from torch import nn, optim\n",
        "from torch.utils.data import Dataset, DataLoader\n",
        "%matplotlib inline\n",
        "%config InlineBackend.figure_format='retina'\n",
        "sns.set(style='whitegrid', palette='muted', font_scale=1.2)\n",
        "HAPPY_COLORS_PALETTE = [\"#01BEFE\", \"#FFDD00\", \"#FF7D00\", \"#FF006D\", \"#ADFF02\", \"#8F00FF\"]\n",
        "sns.set_palette(sns.color_palette(HAPPY_COLORS_PALETTE))\n",
        "rcParams['figure.figsize'] = 12, 8\n",
        "RANDOM_SEED = 42\n",
        "np.random.seed(RANDOM_SEED)\n",
        "torch.manual_seed(RANDOM_SEED)\n",
        "device = torch.device(\"cuda:0\" if torch.cuda.is_available() else \"cpu\")"
      ],
      "execution_count": 15,
      "outputs": []
    },
    {
      "cell_type": "code",
      "metadata": {
        "id": "ghwFUWhIx3o6"
      },
      "source": [
        "def save_as_pickle(filename, data):\n",
        "    completeName = os.path.join(\"\",\\\n",
        "                                filename)\n",
        "    with open(completeName, 'wb') as output:\n",
        "        pickle.dump(data, output)\n",
        "\n",
        "\n",
        "def load_as_pickle(filename):\n",
        "    completeName = os.path.join(\"./data/\",\\\n",
        "                                filename)\n",
        "    with open(completeName, 'rb') as pkl_file:\n",
        "        data = pickle.load(pkl_file)\n",
        "    return data\n",
        "\n",
        "\n",
        "import re\n",
        "def untokenize(words):\n",
        "    \"\"\"\n",
        "    Untokenizing a text undoes the tokenizing operation, restoring\n",
        "    punctuation and spaces to the places that people expect them to be.\n",
        "    Ideally, `untokenize(tokenize(text))` should be identical to `text`,\n",
        "    except for line breaks.\n",
        "    \"\"\"\n",
        "    text = ' '.join(words)\n",
        "    step1 = text.replace(\"`` \", '\"').replace(\" ''\", '\"').replace('. . .',  '...')\n",
        "    step2 = step1.replace(\" ( \", \" (\").replace(\" ) \", \") \")\n",
        "    step3 = re.sub(r' ([.,:;?!%]+)([ \\'\"`])', r\"\\1\\2\", step2)\n",
        "    step4 = re.sub(r' ([.,:;?!%]+)$', r\"\\1\", step3)\n",
        "    step5 = step4.replace(\" '\", \"'\").replace(\" n't\", \"n't\").replace(\n",
        "         \"can not\", \"cannot\")\n",
        "    step6 = step5.replace(\" ` \", \" '\")\n",
        "    return step6.strip()\n",
        "\n",
        "                     "
      ],
      "execution_count": 4,
      "outputs": []
    },
    {
      "cell_type": "code",
      "metadata": {
        "id": "7aD3AUhYyYed"
      },
      "source": [
        "testtokenized_concepts = load_as_pickle('/content/test_list_concept_BERT2')\n",
        "traintokenized_concepts = load_as_pickle('/content/train_list_concept_BERT2')\n",
        "\n",
        "trains = []\n",
        "for i in traintokenized_concepts:\n",
        "    trains.append(untokenize(i))\n",
        "\n",
        "tests = []\n",
        "for i in testtokenized_concepts:\n",
        "    tests.append(untokenize(i))   "
      ],
      "execution_count": 7,
      "outputs": []
    },
    {
      "cell_type": "code",
      "metadata": {
        "id": "RG_LP9-JysEq"
      },
      "source": [
        "train = pd.DataFrame()\n",
        "test = pd.DataFrame()"
      ],
      "execution_count": 8,
      "outputs": []
    },
    {
      "cell_type": "code",
      "metadata": {
        "id": "XnOVNmdVy3iz"
      },
      "source": [
        "train['sentences'] = trains\n",
        "test['sentences'] = tests"
      ],
      "execution_count": 9,
      "outputs": []
    },
    {
      "cell_type": "code",
      "metadata": {
        "id": "uOOkF9c0YVO-",
        "outputId": "16063467-8343-4ee9-a704-0d5eb8f571fc",
        "colab": {
          "base_uri": "https://localhost:8080/"
        }
      },
      "source": [
        "test.info()"
      ],
      "execution_count": 11,
      "outputs": [
        {
          "output_type": "stream",
          "text": [
            "<class 'pandas.core.frame.DataFrame'>\n",
            "RangeIndex: 13748 entries, 0 to 13747\n",
            "Data columns (total 1 columns):\n",
            " #   Column     Non-Null Count  Dtype \n",
            "---  ------     --------------  ----- \n",
            " 0   sentences  13748 non-null  object\n",
            "dtypes: object(1)\n",
            "memory usage: 107.5+ KB\n"
          ],
          "name": "stdout"
        }
      ]
    },
    {
      "cell_type": "code",
      "metadata": {
        "id": "vLVw6tSU976Z"
      },
      "source": [
        "PRE_TRAINED_MODEL_NAME = 'bert-base-cased'"
      ],
      "execution_count": 12,
      "outputs": []
    },
    {
      "cell_type": "code",
      "metadata": {
        "id": "fmEfVZjjYij1",
        "outputId": "0e79adc0-096d-4256-c272-5410cee3feee",
        "colab": {
          "base_uri": "https://localhost:8080/",
          "height": 66,
          "referenced_widgets": [
            "ecd03c734628427c94eb07912c5f1914",
            "abbd6c76e6194cc882eb6da5d1aa10ba",
            "0106a660e0dd4a27a64ec8cbc0384602",
            "704bffc143954164bd428f891e1023df",
            "a81fb82df24d4318855bd44032a1e2d7",
            "b37f142fae844bc88c4d89d3fed829d6",
            "4126ee89ed744e9d89369221f78b22ee",
            "032d3266de7743de8b4f8f12c9a06600"
          ]
        }
      },
      "source": [
        "tokenizer = BertTokenizer.from_pretrained(PRE_TRAINED_MODEL_NAME)\n"
      ],
      "execution_count": 16,
      "outputs": [
        {
          "output_type": "display_data",
          "data": {
            "application/vnd.jupyter.widget-view+json": {
              "model_id": "ecd03c734628427c94eb07912c5f1914",
              "version_minor": 0,
              "version_major": 2
            },
            "text/plain": [
              "HBox(children=(FloatProgress(value=0.0, description='Downloading', max=213450.0, style=ProgressStyle(descripti…"
            ]
          },
          "metadata": {
            "tags": []
          }
        },
        {
          "output_type": "stream",
          "text": [
            "\n"
          ],
          "name": "stdout"
        }
      ]
    },
    {
      "cell_type": "code",
      "metadata": {
        "id": "MzBnTxlYY2jK",
        "outputId": "d1b7d790-540a-4cca-a2cd-e41b53c4e02b",
        "colab": {
          "base_uri": "https://localhost:8080/"
        }
      },
      "source": [
        "train_token_lens = []\n",
        "for txt in train.sentences:\n",
        "  tokens = tokenizer.encode(txt, max_length=512)\n",
        "  train_token_lens.append(len(tokens))"
      ],
      "execution_count": 17,
      "outputs": [
        {
          "output_type": "stream",
          "text": [
            "Truncation was not explicitly activated but `max_length` is provided a specific value, please use `truncation=True` to explicitly truncate examples to max length. Defaulting to 'longest_first' truncation strategy. If you encode pairs of sequences (GLUE-style) with the tokenizer you can select this strategy more precisely by providing a specific strategy to `truncation`.\n"
          ],
          "name": "stderr"
        }
      ]
    },
    {
      "cell_type": "code",
      "metadata": {
        "id": "3YoIWHppZbUE"
      },
      "source": [
        "test_token_lens = []\n",
        "for txt in test.sentences:\n",
        "  tokens = tokenizer.encode(txt, max_length=512)\n",
        "  test_token_lens.append(len(tokens))"
      ],
      "execution_count": 18,
      "outputs": []
    },
    {
      "cell_type": "code",
      "metadata": {
        "id": "4r6SgoelZnFo",
        "outputId": "5ef99027-62ea-4b6c-b2a9-04d5d6f498d2",
        "colab": {
          "base_uri": "https://localhost:8080/",
          "height": 560
        }
      },
      "source": [
        "sns.distplot(train_token_lens)\n",
        "plt.xlim([0, 256]);\n",
        "plt.xlabel('Token count');"
      ],
      "execution_count": 19,
      "outputs": [
        {
          "output_type": "stream",
          "text": [
            "/usr/local/lib/python3.6/dist-packages/seaborn/distributions.py:2551: FutureWarning: `distplot` is a deprecated function and will be removed in a future version. Please adapt your code to use either `displot` (a figure-level function with similar flexibility) or `histplot` (an axes-level function for histograms).\n",
            "  warnings.warn(msg, FutureWarning)\n"
          ],
          "name": "stderr"
        },
        {
          "output_type": "display_data",
          "data": {
            "image/png": "[encoded data removed]",
            "text/plain": [
              "<Figure size 864x576 with 1 Axes>"
            ]
          },
          "metadata": {
            "tags": [],
            "image/png": {
              "width": 749,
              "height": 489
            }
          }
        }
      ]
    },
    {
      "cell_type": "code",
      "metadata": {
        "id": "5KLBJ9E9aCUZ"
      },
      "source": [
        "MAX_LEN = 256"
      ],
      "execution_count": 20,
      "outputs": []
    },
    {
      "cell_type": "code",
      "metadata": {
        "id": "mclOEjOnaE8G"
      },
      "source": [
        "class GPReviewDataset(Dataset):\n",
        "  def __init__(self, reviews, tokenizer, max_len):\n",
        "    self.reviews = reviews\n",
        "    self.tokenizer = tokenizer\n",
        "    self.max_len = max_len\n",
        "  def __len__(self):\n",
        "    return len(self.reviews)\n",
        "  def __getitem__(self, item):\n",
        "    review = str(self.reviews[item])\n",
        "    encoding = self.tokenizer.encode_plus(\n",
        "      review,\n",
        "      add_special_tokens=True,\n",
        "      max_length=self.max_len,\n",
        "      return_token_type_ids=False,\n",
        "      pad_to_max_length=True,\n",
        "      return_attention_mask=True,\n",
        "      return_tensors='pt',\n",
        "    )\n",
        "    return {\n",
        "      'review_text': review,\n",
        "      'input_ids': encoding['input_ids'].flatten(),\n",
        "      'attention_mask': encoding['attention_mask'].flatten()\n",
        "      \n",
        "    }\n"
      ],
      "execution_count": 24,
      "outputs": []
    },
    {
      "cell_type": "code",
      "metadata": {
        "id": "1faj1LSxakVN"
      },
      "source": [
        "def create_data_loader(df, tokenizer, max_len, batch_size):\n",
        "  ds = GPReviewDataset(\n",
        "    reviews=train.sentences.to_numpy(),\n",
        "    \n",
        "    tokenizer=tokenizer,\n",
        "    max_len=max_len\n",
        "  )\n",
        "  return DataLoader(\n",
        "    ds,\n",
        "    batch_size=batch_size,\n",
        "    num_workers=4\n",
        "  )"
      ],
      "execution_count": 25,
      "outputs": []
    },
    {
      "cell_type": "code",
      "metadata": {
        "id": "oX4Skso4ll7f",
        "outputId": "622924d3-fef2-4b40-9ed5-9edc8430b72f",
        "colab": {
          "base_uri": "https://localhost:8080/"
        }
      },
      "source": [
        "BATCH_SIZE*694"
      ],
      "execution_count": 48,
      "outputs": [
        {
          "output_type": "execute_result",
          "data": {
            "text/plain": [
              "11104"
            ]
          },
          "metadata": {
            "tags": []
          },
          "execution_count": 48
        }
      ]
    },
    {
      "cell_type": "code",
      "metadata": {
        "id": "xLuGnSmHbF1v"
      },
      "source": [
        "BATCH_SIZE = 16\n",
        "train_data_loader = create_data_loader(train, tokenizer, MAX_LEN, BATCH_SIZE)\n",
        "\n",
        "test_data_loader = create_data_loader(test, tokenizer, MAX_LEN, BATCH_SIZE)"
      ],
      "execution_count": 26,
      "outputs": []
    },
    {
      "cell_type": "code",
      "metadata": {
        "id": "CVrQI6mhcC0X",
        "outputId": "f4b8cd8e-24e7-498f-b269-c8b0a949baed",
        "colab": {
          "base_uri": "https://localhost:8080/"
        }
      },
      "source": [
        "data = next(iter(train_data_loader))\n",
        "data.keys()"
      ],
      "execution_count": 27,
      "outputs": [
        {
          "output_type": "stream",
          "text": [
            "/usr/local/lib/python3.6/dist-packages/transformers/tokenization_utils_base.py:2022: FutureWarning: The `pad_to_max_length` argument is deprecated and will be removed in a future version, use `padding=True` or `padding='longest'` to pad to the longest sequence in the batch, or use `padding='max_length'` to pad to a max length. In this case, you can give a specific length with `max_length` (e.g. `max_length=45`) or leave max_length to None to pad to the maximal input size of the model (e.g. 512 for Bert).\n",
            "  FutureWarning,\n",
            "/usr/local/lib/python3.6/dist-packages/transformers/tokenization_utils_base.py:2022: FutureWarning: The `pad_to_max_length` argument is deprecated and will be removed in a future version, use `padding=True` or `padding='longest'` to pad to the longest sequence in the batch, or use `padding='max_length'` to pad to a max length. In this case, you can give a specific length with `max_length` (e.g. `max_length=45`) or leave max_length to None to pad to the maximal input size of the model (e.g. 512 for Bert).\n",
            "  FutureWarning,\n",
            "/usr/local/lib/python3.6/dist-packages/transformers/tokenization_utils_base.py:2022: FutureWarning: The `pad_to_max_length` argument is deprecated and will be removed in a future version, use `padding=True` or `padding='longest'` to pad to the longest sequence in the batch, or use `padding='max_length'` to pad to a max length. In this case, you can give a specific length with `max_length` (e.g. `max_length=45`) or leave max_length to None to pad to the maximal input size of the model (e.g. 512 for Bert).\n",
            "  FutureWarning,\n",
            "/usr/local/lib/python3.6/dist-packages/transformers/tokenization_utils_base.py:2022: FutureWarning: The `pad_to_max_length` argument is deprecated and will be removed in a future version, use `padding=True` or `padding='longest'` to pad to the longest sequence in the batch, or use `padding='max_length'` to pad to a max length. In this case, you can give a specific length with `max_length` (e.g. `max_length=45`) or leave max_length to None to pad to the maximal input size of the model (e.g. 512 for Bert).\n",
            "  FutureWarning,\n"
          ],
          "name": "stderr"
        },
        {
          "output_type": "execute_result",
          "data": {
            "text/plain": [
              "dict_keys(['review_text', 'input_ids', 'attention_mask'])"
            ]
          },
          "metadata": {
            "tags": []
          },
          "execution_count": 27
        }
      ]
    },
    {
      "cell_type": "code",
      "metadata": {
        "id": "81iidFJNcOe0",
        "outputId": "0391708d-d019-41fb-ed14-e3ae8dbb734c",
        "colab": {
          "base_uri": "https://localhost:8080/",
          "height": 114,
          "referenced_widgets": [
            "5a573f0b66254fd2bdca43c890f4fd35",
            "7726213fe55843b698126783e41b3a05",
            "bba1149ba7324a0daf1a6787f1935dcb",
            "0f337fcd37ce4c3babfef3fc222d48e8",
            "7789c370a7f14079a5e4bb76107b1ea8",
            "0cbba15bca414074890e22eeecd5800e",
            "26ef20bfe8d546009c4f1509d29ac30e",
            "d355826fede9494b8e1c8e395da098ec",
            "77627b789e5e4fb48dbb30b8bdb124cd",
            "9ebcb15c786c4b6d960d707bdda16657",
            "478b9d5a234d44109b77273eb62e636f",
            "c246225440eb41f8b25acf8712be2c6a",
            "54ebad690f0e43e68f286b7828c2c1a5",
            "fc1858faea7a4a3693522841d4aae5d7",
            "c9fa5232597749459809f5f4c0a9bd66",
            "39de77d24ab44f06bb9b709324938b0e"
          ]
        }
      },
      "source": [
        "bert_model = BertModel.from_pretrained(PRE_TRAINED_MODEL_NAME)"
      ],
      "execution_count": 28,
      "outputs": [
        {
          "output_type": "display_data",
          "data": {
            "application/vnd.jupyter.widget-view+json": {
              "model_id": "5a573f0b66254fd2bdca43c890f4fd35",
              "version_minor": 0,
              "version_major": 2
            },
            "text/plain": [
              "HBox(children=(FloatProgress(value=0.0, description='Downloading', max=433.0, style=ProgressStyle(description_…"
            ]
          },
          "metadata": {
            "tags": []
          }
        },
        {
          "output_type": "stream",
          "text": [
            "\n"
          ],
          "name": "stdout"
        },
        {
          "output_type": "display_data",
          "data": {
            "application/vnd.jupyter.widget-view+json": {
              "model_id": "77627b789e5e4fb48dbb30b8bdb124cd",
              "version_minor": 0,
              "version_major": 2
            },
            "text/plain": [
              "HBox(children=(FloatProgress(value=0.0, description='Downloading', max=435779157.0, style=ProgressStyle(descri…"
            ]
          },
          "metadata": {
            "tags": []
          }
        },
        {
          "output_type": "stream",
          "text": [
            "\n"
          ],
          "name": "stdout"
        }
      ]
    },
    {
      "cell_type": "code",
      "metadata": {
        "id": "Bg7KwVZwcWIz"
      },
      "source": [
        "class SentimentClassifier(nn.Module):\n",
        "  def __init__(self, n_classes):\n",
        "    super(SentimentClassifier, self).__init__()\n",
        "    self.bert = BertModel.from_pretrained(PRE_TRAINED_MODEL_NAME)\n",
        "    self.out = nn.Linear(self.bert.config.hidden_size, n_classes)\n",
        "  def forward(self, input_ids, attention_mask):\n",
        "    _, pooled_output = self.bert(\n",
        "      input_ids=input_ids,\n",
        "      attention_mask=attention_mask\n",
        "    )\n",
        "    output = pooled_output\n",
        "    return self.out(output)"
      ],
      "execution_count": 29,
      "outputs": []
    },
    {
      "cell_type": "code",
      "metadata": {
        "id": "bmfegkZCf8mM",
        "outputId": "dfe2a188-c2ae-4b18-db21-3784a3f6b6f8",
        "colab": {
          "base_uri": "https://localhost:8080/"
        }
      },
      "source": [
        "data = next(iter(train_data_loader))"
      ],
      "execution_count": 32,
      "outputs": [
        {
          "output_type": "stream",
          "text": [
            "/usr/local/lib/python3.6/dist-packages/transformers/tokenization_utils_base.py:2022: FutureWarning: The `pad_to_max_length` argument is deprecated and will be removed in a future version, use `padding=True` or `padding='longest'` to pad to the longest sequence in the batch, or use `padding='max_length'` to pad to a max length. In this case, you can give a specific length with `max_length` (e.g. `max_length=45`) or leave max_length to None to pad to the maximal input size of the model (e.g. 512 for Bert).\n",
            "  FutureWarning,\n",
            "/usr/local/lib/python3.6/dist-packages/transformers/tokenization_utils_base.py:2022: FutureWarning: The `pad_to_max_length` argument is deprecated and will be removed in a future version, use `padding=True` or `padding='longest'` to pad to the longest sequence in the batch, or use `padding='max_length'` to pad to a max length. In this case, you can give a specific length with `max_length` (e.g. `max_length=45`) or leave max_length to None to pad to the maximal input size of the model (e.g. 512 for Bert).\n",
            "  FutureWarning,\n",
            "/usr/local/lib/python3.6/dist-packages/transformers/tokenization_utils_base.py:2022: FutureWarning: The `pad_to_max_length` argument is deprecated and will be removed in a future version, use `padding=True` or `padding='longest'` to pad to the longest sequence in the batch, or use `padding='max_length'` to pad to a max length. In this case, you can give a specific length with `max_length` (e.g. `max_length=45`) or leave max_length to None to pad to the maximal input size of the model (e.g. 512 for Bert).\n",
            "  FutureWarning,\n",
            "/usr/local/lib/python3.6/dist-packages/transformers/tokenization_utils_base.py:2022: FutureWarning: The `pad_to_max_length` argument is deprecated and will be removed in a future version, use `padding=True` or `padding='longest'` to pad to the longest sequence in the batch, or use `padding='max_length'` to pad to a max length. In this case, you can give a specific length with `max_length` (e.g. `max_length=45`) or leave max_length to None to pad to the maximal input size of the model (e.g. 512 for Bert).\n",
            "  FutureWarning,\n"
          ],
          "name": "stderr"
        }
      ]
    },
    {
      "cell_type": "code",
      "metadata": {
        "id": "UhpYfQCYe6ek"
      },
      "source": [
        "model = SentimentClassifier(2)"
      ],
      "execution_count": 30,
      "outputs": []
    },
    {
      "cell_type": "code",
      "metadata": {
        "id": "4luW2BhEfG_m"
      },
      "source": [
        "model = model.to(device)\n"
      ],
      "execution_count": 31,
      "outputs": []
    },
    {
      "cell_type": "code",
      "metadata": {
        "id": "F_suJINNfy31",
        "outputId": "09075aa2-7bf9-4152-ef91-48400ff309f3",
        "colab": {
          "base_uri": "https://localhost:8080/"
        }
      },
      "source": [
        "input_ids = data['input_ids'].to(device)\n",
        "attention_mask = data['attention_mask'].to(device)\n",
        "print(input_ids.shape) # batch size x seq length\n",
        "print(attention_mask.shape) # batch size x seq length"
      ],
      "execution_count": 33,
      "outputs": [
        {
          "output_type": "stream",
          "text": [
            "torch.Size([16, 256])\n",
            "torch.Size([16, 256])\n"
          ],
          "name": "stdout"
        }
      ]
    },
    {
      "cell_type": "code",
      "metadata": {
        "id": "aXLKzFx0ghj7"
      },
      "source": [
        "with torch.no_grad():\n",
        "    top_train_last_hidden_states = model(input_ids, attention_mask=attention_mask)"
      ],
      "execution_count": 34,
      "outputs": []
    },
    {
      "cell_type": "code",
      "metadata": {
        "id": "MzzLgbTskJwk"
      },
      "source": [
        "import numpy as np\n",
        "import pandas as pd\n",
        "from sklearn.model_selection import train_test_split\n",
        "from sklearn.linear_model import LogisticRegression\n",
        "from sklearn.model_selection import GridSearchCV\n",
        "from sklearn.model_selection import cross_val_score\n",
        "import torch\n",
        "import transformers as ppb\n",
        "import warnings\n",
        "warnings.filterwarnings('ignore')\n",
        "\n",
        "\n",
        "\n",
        "# For DistilBERT:\n",
        "model_class, tokenizer_class, pretrained_weights = (ppb.DistilBertModel, ppb.DistilBertTokenizer, 'distilbert-base-uncased')\n",
        "\n",
        "## Want BERT instead of distilBERT? Uncomment the following line:\n",
        "#model_class, tokenizer_class, pretrained_weights = (ppb.BertModel, ppb.BertTokenizer, 'bert-base-uncased')\n",
        "\n",
        "# Load pretrained model/tokenizer\n",
        "model = model_class.from_pretrained(pretrained_weights)\n",
        "model = model.to(device)"
      ],
      "execution_count": 44,
      "outputs": []
    },
    {
      "cell_type": "code",
      "metadata": {
        "id": "M3d9C9ZtgnEN"
      },
      "source": [
        "train_output = []\n",
        "for d in train_data_loader:\n",
        "    input_ids = d[\"input_ids\"].to(device)\n",
        "    attention_mask = d[\"attention_mask\"].to(device)\n",
        "   \n",
        "    with torch.no_grad():\n",
        "      outputs = model(\n",
        "        input_ids=input_ids,\n",
        "        attention_mask=attention_mask\n",
        "      )\n",
        "      train_output.append(outputs)\n"
      ],
      "execution_count": 45,
      "outputs": []
    },
    {
      "cell_type": "code",
      "metadata": {
        "id": "BZcV10UPo03B"
      },
      "source": [
        "save_as_pickle('hidden_states_train_output',train_output)\n",
        "save_as_pickle('features_train_output',new_features)"
      ],
      "execution_count": null,
      "outputs": []
    },
    {
      "cell_type": "code",
      "metadata": {
        "id": "O-vDp1aUod4W",
        "outputId": "febc577b-90d1-41aa-881c-ff5b59e580cc",
        "colab": {
          "base_uri": "https://localhost:8080/",
          "height": 387
        }
      },
      "source": [
        "test_output = []\n",
        "for d in test_data_loader:\n",
        "    input_ids = d[\"input_ids\"].to(device)\n",
        "    attention_mask = d[\"attention_mask\"].to(device)\n",
        "   \n",
        "    with torch.no_grad():\n",
        "      outputs = model(\n",
        "        input_ids=input_ids,\n",
        "        attention_mask=attention_mask\n",
        "      )\n",
        "      test_output.append(outputs)\n"
      ],
      "execution_count": 64,
      "outputs": [
        {
          "output_type": "error",
          "ename": "RuntimeError",
          "evalue": "ignored",
          "traceback": [
            "\u001b[0;31m---------------------------------------------------------------------------\u001b[0m",
            "\u001b[0;31mRuntimeError\u001b[0m                              Traceback (most recent call last)",
            "\u001b[0;32m<ipython-input-64-5d12e0eae39a>\u001b[0m in \u001b[0;36m<module>\u001b[0;34m()\u001b[0m\n\u001b[1;32m      7\u001b[0m       outputs = model(\n\u001b[1;32m      8\u001b[0m         \u001b[0minput_ids\u001b[0m\u001b[0;34m=\u001b[0m\u001b[0minput_ids\u001b[0m\u001b[0;34m,\u001b[0m\u001b[0;34m\u001b[0m\u001b[0;34m\u001b[0m\u001b[0m\n\u001b[0;32m----> 9\u001b[0;31m         \u001b[0mattention_mask\u001b[0m\u001b[0;34m=\u001b[0m\u001b[0mattention_mask\u001b[0m\u001b[0;34m\u001b[0m\u001b[0;34m\u001b[0m\u001b[0m\n\u001b[0m\u001b[1;32m     10\u001b[0m       )\n\u001b[1;32m     11\u001b[0m       \u001b[0mtest_output\u001b[0m\u001b[0;34m.\u001b[0m\u001b[0mappend\u001b[0m\u001b[0;34m(\u001b[0m\u001b[0moutputs\u001b[0m\u001b[0;34m)\u001b[0m\u001b[0;34m\u001b[0m\u001b[0;34m\u001b[0m\u001b[0m\n",
            "\u001b[0;32m/usr/local/lib/python3.6/dist-packages/torch/nn/modules/module.py\u001b[0m in \u001b[0;36m_call_impl\u001b[0;34m(self, *input, **kwargs)\u001b[0m\n\u001b[1;32m    725\u001b[0m             \u001b[0mresult\u001b[0m \u001b[0;34m=\u001b[0m \u001b[0mself\u001b[0m\u001b[0;34m.\u001b[0m\u001b[0m_slow_forward\u001b[0m\u001b[0;34m(\u001b[0m\u001b[0;34m*\u001b[0m\u001b[0minput\u001b[0m\u001b[0;34m,\u001b[0m \u001b[0;34m**\u001b[0m\u001b[0mkwargs\u001b[0m\u001b[0;34m)\u001b[0m\u001b[0;34m\u001b[0m\u001b[0;34m\u001b[0m\u001b[0m\n\u001b[1;32m    726\u001b[0m         \u001b[0;32melse\u001b[0m\u001b[0;34m:\u001b[0m\u001b[0;34m\u001b[0m\u001b[0;34m\u001b[0m\u001b[0m\n\u001b[0;32m--> 727\u001b[0;31m             \u001b[0mresult\u001b[0m \u001b[0;34m=\u001b[0m \u001b[0mself\u001b[0m\u001b[0;34m.\u001b[0m\u001b[0mforward\u001b[0m\u001b[0;34m(\u001b[0m\u001b[0;34m*\u001b[0m\u001b[0minput\u001b[0m\u001b[0;34m,\u001b[0m \u001b[0;34m**\u001b[0m\u001b[0mkwargs\u001b[0m\u001b[0;34m)\u001b[0m\u001b[0;34m\u001b[0m\u001b[0;34m\u001b[0m\u001b[0m\n\u001b[0m\u001b[1;32m    728\u001b[0m         for hook in itertools.chain(\n\u001b[1;32m    729\u001b[0m                 \u001b[0m_global_forward_hooks\u001b[0m\u001b[0;34m.\u001b[0m\u001b[0mvalues\u001b[0m\u001b[0;34m(\u001b[0m\u001b[0;34m)\u001b[0m\u001b[0;34m,\u001b[0m\u001b[0;34m\u001b[0m\u001b[0;34m\u001b[0m\u001b[0m\n",
            "\u001b[0;32m/usr/local/lib/python3.6/dist-packages/transformers/modeling_distilbert.py\u001b[0m in \u001b[0;36mforward\u001b[0;34m(self, input_ids, attention_mask, head_mask, inputs_embeds, output_attentions, output_hidden_states, return_dict)\u001b[0m\n\u001b[1;32m    486\u001b[0m             \u001b[0moutput_attentions\u001b[0m\u001b[0;34m=\u001b[0m\u001b[0moutput_attentions\u001b[0m\u001b[0;34m,\u001b[0m\u001b[0;34m\u001b[0m\u001b[0;34m\u001b[0m\u001b[0m\n\u001b[1;32m    487\u001b[0m             \u001b[0moutput_hidden_states\u001b[0m\u001b[0;34m=\u001b[0m\u001b[0moutput_hidden_states\u001b[0m\u001b[0;34m,\u001b[0m\u001b[0;34m\u001b[0m\u001b[0;34m\u001b[0m\u001b[0m\n\u001b[0;32m--> 488\u001b[0;31m             \u001b[0mreturn_dict\u001b[0m\u001b[0;34m=\u001b[0m\u001b[0mreturn_dict\u001b[0m\u001b[0;34m,\u001b[0m\u001b[0;34m\u001b[0m\u001b[0;34m\u001b[0m\u001b[0m\n\u001b[0m\u001b[1;32m    489\u001b[0m         )\n\u001b[1;32m    490\u001b[0m \u001b[0;34m\u001b[0m\u001b[0m\n",
            "\u001b[0;32m/usr/local/lib/python3.6/dist-packages/torch/nn/modules/module.py\u001b[0m in \u001b[0;36m_call_impl\u001b[0;34m(self, *input, **kwargs)\u001b[0m\n\u001b[1;32m    725\u001b[0m             \u001b[0mresult\u001b[0m \u001b[0;34m=\u001b[0m \u001b[0mself\u001b[0m\u001b[0;34m.\u001b[0m\u001b[0m_slow_forward\u001b[0m\u001b[0;34m(\u001b[0m\u001b[0;34m*\u001b[0m\u001b[0minput\u001b[0m\u001b[0;34m,\u001b[0m \u001b[0;34m**\u001b[0m\u001b[0mkwargs\u001b[0m\u001b[0;34m)\u001b[0m\u001b[0;34m\u001b[0m\u001b[0;34m\u001b[0m\u001b[0m\n\u001b[1;32m    726\u001b[0m         \u001b[0;32melse\u001b[0m\u001b[0;34m:\u001b[0m\u001b[0;34m\u001b[0m\u001b[0;34m\u001b[0m\u001b[0m\n\u001b[0;32m--> 727\u001b[0;31m             \u001b[0mresult\u001b[0m \u001b[0;34m=\u001b[0m \u001b[0mself\u001b[0m\u001b[0;34m.\u001b[0m\u001b[0mforward\u001b[0m\u001b[0;34m(\u001b[0m\u001b[0;34m*\u001b[0m\u001b[0minput\u001b[0m\u001b[0;34m,\u001b[0m \u001b[0;34m**\u001b[0m\u001b[0mkwargs\u001b[0m\u001b[0;34m)\u001b[0m\u001b[0;34m\u001b[0m\u001b[0;34m\u001b[0m\u001b[0m\n\u001b[0m\u001b[1;32m    728\u001b[0m         for hook in itertools.chain(\n\u001b[1;32m    729\u001b[0m                 \u001b[0m_global_forward_hooks\u001b[0m\u001b[0;34m.\u001b[0m\u001b[0mvalues\u001b[0m\u001b[0;34m(\u001b[0m\u001b[0;34m)\u001b[0m\u001b[0;34m,\u001b[0m\u001b[0;34m\u001b[0m\u001b[0;34m\u001b[0m\u001b[0m\n",
            "\u001b[0;32m/usr/local/lib/python3.6/dist-packages/transformers/modeling_distilbert.py\u001b[0m in \u001b[0;36mforward\u001b[0;34m(self, x, attn_mask, head_mask, output_attentions, output_hidden_states, return_dict)\u001b[0m\n\u001b[1;32m    308\u001b[0m \u001b[0;34m\u001b[0m\u001b[0m\n\u001b[1;32m    309\u001b[0m             layer_outputs = layer_module(\n\u001b[0;32m--> 310\u001b[0;31m                 \u001b[0mx\u001b[0m\u001b[0;34m=\u001b[0m\u001b[0mhidden_state\u001b[0m\u001b[0;34m,\u001b[0m \u001b[0mattn_mask\u001b[0m\u001b[0;34m=\u001b[0m\u001b[0mattn_mask\u001b[0m\u001b[0;34m,\u001b[0m \u001b[0mhead_mask\u001b[0m\u001b[0;34m=\u001b[0m\u001b[0mhead_mask\u001b[0m\u001b[0;34m[\u001b[0m\u001b[0mi\u001b[0m\u001b[0;34m]\u001b[0m\u001b[0;34m,\u001b[0m \u001b[0moutput_attentions\u001b[0m\u001b[0;34m=\u001b[0m\u001b[0moutput_attentions\u001b[0m\u001b[0;34m\u001b[0m\u001b[0;34m\u001b[0m\u001b[0m\n\u001b[0m\u001b[1;32m    311\u001b[0m             )\n\u001b[1;32m    312\u001b[0m             \u001b[0mhidden_state\u001b[0m \u001b[0;34m=\u001b[0m \u001b[0mlayer_outputs\u001b[0m\u001b[0;34m[\u001b[0m\u001b[0;34m-\u001b[0m\u001b[0;36m1\u001b[0m\u001b[0;34m]\u001b[0m\u001b[0;34m\u001b[0m\u001b[0;34m\u001b[0m\u001b[0m\n",
            "\u001b[0;32m/usr/local/lib/python3.6/dist-packages/torch/nn/modules/module.py\u001b[0m in \u001b[0;36m_call_impl\u001b[0;34m(self, *input, **kwargs)\u001b[0m\n\u001b[1;32m    725\u001b[0m             \u001b[0mresult\u001b[0m \u001b[0;34m=\u001b[0m \u001b[0mself\u001b[0m\u001b[0;34m.\u001b[0m\u001b[0m_slow_forward\u001b[0m\u001b[0;34m(\u001b[0m\u001b[0;34m*\u001b[0m\u001b[0minput\u001b[0m\u001b[0;34m,\u001b[0m \u001b[0;34m**\u001b[0m\u001b[0mkwargs\u001b[0m\u001b[0;34m)\u001b[0m\u001b[0;34m\u001b[0m\u001b[0;34m\u001b[0m\u001b[0m\n\u001b[1;32m    726\u001b[0m         \u001b[0;32melse\u001b[0m\u001b[0;34m:\u001b[0m\u001b[0;34m\u001b[0m\u001b[0;34m\u001b[0m\u001b[0m\n\u001b[0;32m--> 727\u001b[0;31m             \u001b[0mresult\u001b[0m \u001b[0;34m=\u001b[0m \u001b[0mself\u001b[0m\u001b[0;34m.\u001b[0m\u001b[0mforward\u001b[0m\u001b[0;34m(\u001b[0m\u001b[0;34m*\u001b[0m\u001b[0minput\u001b[0m\u001b[0;34m,\u001b[0m \u001b[0;34m**\u001b[0m\u001b[0mkwargs\u001b[0m\u001b[0;34m)\u001b[0m\u001b[0;34m\u001b[0m\u001b[0;34m\u001b[0m\u001b[0m\n\u001b[0m\u001b[1;32m    728\u001b[0m         for hook in itertools.chain(\n\u001b[1;32m    729\u001b[0m                 \u001b[0m_global_forward_hooks\u001b[0m\u001b[0;34m.\u001b[0m\u001b[0mvalues\u001b[0m\u001b[0;34m(\u001b[0m\u001b[0;34m)\u001b[0m\u001b[0;34m,\u001b[0m\u001b[0;34m\u001b[0m\u001b[0;34m\u001b[0m\u001b[0m\n",
            "\u001b[0;32m/usr/local/lib/python3.6/dist-packages/transformers/modeling_distilbert.py\u001b[0m in \u001b[0;36mforward\u001b[0;34m(self, x, attn_mask, head_mask, output_attentions)\u001b[0m\n\u001b[1;32m    255\u001b[0m             \u001b[0mmask\u001b[0m\u001b[0;34m=\u001b[0m\u001b[0mattn_mask\u001b[0m\u001b[0;34m,\u001b[0m\u001b[0;34m\u001b[0m\u001b[0;34m\u001b[0m\u001b[0m\n\u001b[1;32m    256\u001b[0m             \u001b[0mhead_mask\u001b[0m\u001b[0;34m=\u001b[0m\u001b[0mhead_mask\u001b[0m\u001b[0;34m,\u001b[0m\u001b[0;34m\u001b[0m\u001b[0;34m\u001b[0m\u001b[0m\n\u001b[0;32m--> 257\u001b[0;31m             \u001b[0moutput_attentions\u001b[0m\u001b[0;34m=\u001b[0m\u001b[0moutput_attentions\u001b[0m\u001b[0;34m,\u001b[0m\u001b[0;34m\u001b[0m\u001b[0;34m\u001b[0m\u001b[0m\n\u001b[0m\u001b[1;32m    258\u001b[0m         )\n\u001b[1;32m    259\u001b[0m         \u001b[0;32mif\u001b[0m \u001b[0moutput_attentions\u001b[0m\u001b[0;34m:\u001b[0m\u001b[0;34m\u001b[0m\u001b[0;34m\u001b[0m\u001b[0m\n",
            "\u001b[0;32m/usr/local/lib/python3.6/dist-packages/torch/nn/modules/module.py\u001b[0m in \u001b[0;36m_call_impl\u001b[0;34m(self, *input, **kwargs)\u001b[0m\n\u001b[1;32m    725\u001b[0m             \u001b[0mresult\u001b[0m \u001b[0;34m=\u001b[0m \u001b[0mself\u001b[0m\u001b[0;34m.\u001b[0m\u001b[0m_slow_forward\u001b[0m\u001b[0;34m(\u001b[0m\u001b[0;34m*\u001b[0m\u001b[0minput\u001b[0m\u001b[0;34m,\u001b[0m \u001b[0;34m**\u001b[0m\u001b[0mkwargs\u001b[0m\u001b[0;34m)\u001b[0m\u001b[0;34m\u001b[0m\u001b[0;34m\u001b[0m\u001b[0m\n\u001b[1;32m    726\u001b[0m         \u001b[0;32melse\u001b[0m\u001b[0;34m:\u001b[0m\u001b[0;34m\u001b[0m\u001b[0;34m\u001b[0m\u001b[0m\n\u001b[0;32m--> 727\u001b[0;31m             \u001b[0mresult\u001b[0m \u001b[0;34m=\u001b[0m \u001b[0mself\u001b[0m\u001b[0;34m.\u001b[0m\u001b[0mforward\u001b[0m\u001b[0;34m(\u001b[0m\u001b[0;34m*\u001b[0m\u001b[0minput\u001b[0m\u001b[0;34m,\u001b[0m \u001b[0;34m**\u001b[0m\u001b[0mkwargs\u001b[0m\u001b[0;34m)\u001b[0m\u001b[0;34m\u001b[0m\u001b[0;34m\u001b[0m\u001b[0m\n\u001b[0m\u001b[1;32m    728\u001b[0m         for hook in itertools.chain(\n\u001b[1;32m    729\u001b[0m                 \u001b[0m_global_forward_hooks\u001b[0m\u001b[0;34m.\u001b[0m\u001b[0mvalues\u001b[0m\u001b[0;34m(\u001b[0m\u001b[0;34m)\u001b[0m\u001b[0;34m,\u001b[0m\u001b[0;34m\u001b[0m\u001b[0;34m\u001b[0m\u001b[0m\n",
            "\u001b[0;32m/usr/local/lib/python3.6/dist-packages/transformers/modeling_distilbert.py\u001b[0m in \u001b[0;36mforward\u001b[0;34m(self, query, key, value, mask, head_mask, output_attentions)\u001b[0m\n\u001b[1;32m    185\u001b[0m         \u001b[0mscores\u001b[0m\u001b[0;34m.\u001b[0m\u001b[0mmasked_fill_\u001b[0m\u001b[0;34m(\u001b[0m\u001b[0mmask\u001b[0m\u001b[0;34m,\u001b[0m \u001b[0;34m-\u001b[0m\u001b[0mfloat\u001b[0m\u001b[0;34m(\u001b[0m\u001b[0;34m\"inf\"\u001b[0m\u001b[0;34m)\u001b[0m\u001b[0;34m)\u001b[0m  \u001b[0;31m# (bs, n_heads, q_length, k_length)\u001b[0m\u001b[0;34m\u001b[0m\u001b[0;34m\u001b[0m\u001b[0m\n\u001b[1;32m    186\u001b[0m \u001b[0;34m\u001b[0m\u001b[0m\n\u001b[0;32m--> 187\u001b[0;31m         \u001b[0mweights\u001b[0m \u001b[0;34m=\u001b[0m \u001b[0mnn\u001b[0m\u001b[0;34m.\u001b[0m\u001b[0mSoftmax\u001b[0m\u001b[0;34m(\u001b[0m\u001b[0mdim\u001b[0m\u001b[0;34m=\u001b[0m\u001b[0;34m-\u001b[0m\u001b[0;36m1\u001b[0m\u001b[0;34m)\u001b[0m\u001b[0;34m(\u001b[0m\u001b[0mscores\u001b[0m\u001b[0;34m)\u001b[0m  \u001b[0;31m# (bs, n_heads, q_length, k_length)\u001b[0m\u001b[0;34m\u001b[0m\u001b[0;34m\u001b[0m\u001b[0m\n\u001b[0m\u001b[1;32m    188\u001b[0m         \u001b[0mweights\u001b[0m \u001b[0;34m=\u001b[0m \u001b[0mself\u001b[0m\u001b[0;34m.\u001b[0m\u001b[0mdropout\u001b[0m\u001b[0;34m(\u001b[0m\u001b[0mweights\u001b[0m\u001b[0;34m)\u001b[0m  \u001b[0;31m# (bs, n_heads, q_length, k_length)\u001b[0m\u001b[0;34m\u001b[0m\u001b[0;34m\u001b[0m\u001b[0m\n\u001b[1;32m    189\u001b[0m \u001b[0;34m\u001b[0m\u001b[0m\n",
            "\u001b[0;32m/usr/local/lib/python3.6/dist-packages/torch/nn/modules/module.py\u001b[0m in \u001b[0;36m_call_impl\u001b[0;34m(self, *input, **kwargs)\u001b[0m\n\u001b[1;32m    725\u001b[0m             \u001b[0mresult\u001b[0m \u001b[0;34m=\u001b[0m \u001b[0mself\u001b[0m\u001b[0;34m.\u001b[0m\u001b[0m_slow_forward\u001b[0m\u001b[0;34m(\u001b[0m\u001b[0;34m*\u001b[0m\u001b[0minput\u001b[0m\u001b[0;34m,\u001b[0m \u001b[0;34m**\u001b[0m\u001b[0mkwargs\u001b[0m\u001b[0;34m)\u001b[0m\u001b[0;34m\u001b[0m\u001b[0;34m\u001b[0m\u001b[0m\n\u001b[1;32m    726\u001b[0m         \u001b[0;32melse\u001b[0m\u001b[0;34m:\u001b[0m\u001b[0;34m\u001b[0m\u001b[0;34m\u001b[0m\u001b[0m\n\u001b[0;32m--> 727\u001b[0;31m             \u001b[0mresult\u001b[0m \u001b[0;34m=\u001b[0m \u001b[0mself\u001b[0m\u001b[0;34m.\u001b[0m\u001b[0mforward\u001b[0m\u001b[0;34m(\u001b[0m\u001b[0;34m*\u001b[0m\u001b[0minput\u001b[0m\u001b[0;34m,\u001b[0m \u001b[0;34m**\u001b[0m\u001b[0mkwargs\u001b[0m\u001b[0;34m)\u001b[0m\u001b[0;34m\u001b[0m\u001b[0;34m\u001b[0m\u001b[0m\n\u001b[0m\u001b[1;32m    728\u001b[0m         for hook in itertools.chain(\n\u001b[1;32m    729\u001b[0m                 \u001b[0m_global_forward_hooks\u001b[0m\u001b[0;34m.\u001b[0m\u001b[0mvalues\u001b[0m\u001b[0;34m(\u001b[0m\u001b[0;34m)\u001b[0m\u001b[0;34m,\u001b[0m\u001b[0;34m\u001b[0m\u001b[0;34m\u001b[0m\u001b[0m\n",
            "\u001b[0;32m/usr/local/lib/python3.6/dist-packages/torch/nn/modules/activation.py\u001b[0m in \u001b[0;36mforward\u001b[0;34m(self, input)\u001b[0m\n\u001b[1;32m   1196\u001b[0m \u001b[0;34m\u001b[0m\u001b[0m\n\u001b[1;32m   1197\u001b[0m     \u001b[0;32mdef\u001b[0m \u001b[0mforward\u001b[0m\u001b[0;34m(\u001b[0m\u001b[0mself\u001b[0m\u001b[0;34m,\u001b[0m \u001b[0minput\u001b[0m\u001b[0;34m:\u001b[0m \u001b[0mTensor\u001b[0m\u001b[0;34m)\u001b[0m \u001b[0;34m->\u001b[0m \u001b[0mTensor\u001b[0m\u001b[0;34m:\u001b[0m\u001b[0;34m\u001b[0m\u001b[0;34m\u001b[0m\u001b[0m\n\u001b[0;32m-> 1198\u001b[0;31m         \u001b[0;32mreturn\u001b[0m \u001b[0mF\u001b[0m\u001b[0;34m.\u001b[0m\u001b[0msoftmax\u001b[0m\u001b[0;34m(\u001b[0m\u001b[0minput\u001b[0m\u001b[0;34m,\u001b[0m \u001b[0mself\u001b[0m\u001b[0;34m.\u001b[0m\u001b[0mdim\u001b[0m\u001b[0;34m,\u001b[0m \u001b[0m_stacklevel\u001b[0m\u001b[0;34m=\u001b[0m\u001b[0;36m5\u001b[0m\u001b[0;34m)\u001b[0m\u001b[0;34m\u001b[0m\u001b[0;34m\u001b[0m\u001b[0m\n\u001b[0m\u001b[1;32m   1199\u001b[0m \u001b[0;34m\u001b[0m\u001b[0m\n\u001b[1;32m   1200\u001b[0m     \u001b[0;32mdef\u001b[0m \u001b[0mextra_repr\u001b[0m\u001b[0;34m(\u001b[0m\u001b[0mself\u001b[0m\u001b[0;34m)\u001b[0m \u001b[0;34m->\u001b[0m \u001b[0mstr\u001b[0m\u001b[0;34m:\u001b[0m\u001b[0;34m\u001b[0m\u001b[0;34m\u001b[0m\u001b[0m\n",
            "\u001b[0;32m/usr/local/lib/python3.6/dist-packages/torch/nn/functional.py\u001b[0m in \u001b[0;36msoftmax\u001b[0;34m(input, dim, _stacklevel, dtype)\u001b[0m\n\u001b[1;32m   1510\u001b[0m         \u001b[0mdim\u001b[0m \u001b[0;34m=\u001b[0m \u001b[0m_get_softmax_dim\u001b[0m\u001b[0;34m(\u001b[0m\u001b[0;34m'softmax'\u001b[0m\u001b[0;34m,\u001b[0m \u001b[0minput\u001b[0m\u001b[0;34m.\u001b[0m\u001b[0mdim\u001b[0m\u001b[0;34m(\u001b[0m\u001b[0;34m)\u001b[0m\u001b[0;34m,\u001b[0m \u001b[0m_stacklevel\u001b[0m\u001b[0;34m)\u001b[0m\u001b[0;34m\u001b[0m\u001b[0;34m\u001b[0m\u001b[0m\n\u001b[1;32m   1511\u001b[0m     \u001b[0;32mif\u001b[0m \u001b[0mdtype\u001b[0m \u001b[0;32mis\u001b[0m \u001b[0;32mNone\u001b[0m\u001b[0;34m:\u001b[0m\u001b[0;34m\u001b[0m\u001b[0;34m\u001b[0m\u001b[0m\n\u001b[0;32m-> 1512\u001b[0;31m         \u001b[0mret\u001b[0m \u001b[0;34m=\u001b[0m \u001b[0minput\u001b[0m\u001b[0;34m.\u001b[0m\u001b[0msoftmax\u001b[0m\u001b[0;34m(\u001b[0m\u001b[0mdim\u001b[0m\u001b[0;34m)\u001b[0m\u001b[0;34m\u001b[0m\u001b[0;34m\u001b[0m\u001b[0m\n\u001b[0m\u001b[1;32m   1513\u001b[0m     \u001b[0;32melse\u001b[0m\u001b[0;34m:\u001b[0m\u001b[0;34m\u001b[0m\u001b[0;34m\u001b[0m\u001b[0m\n\u001b[1;32m   1514\u001b[0m         \u001b[0mret\u001b[0m \u001b[0;34m=\u001b[0m \u001b[0minput\u001b[0m\u001b[0;34m.\u001b[0m\u001b[0msoftmax\u001b[0m\u001b[0;34m(\u001b[0m\u001b[0mdim\u001b[0m\u001b[0;34m,\u001b[0m \u001b[0mdtype\u001b[0m\u001b[0;34m=\u001b[0m\u001b[0mdtype\u001b[0m\u001b[0;34m)\u001b[0m\u001b[0;34m\u001b[0m\u001b[0;34m\u001b[0m\u001b[0m\n",
            "\u001b[0;31mRuntimeError\u001b[0m: CUDA out of memory. Tried to allocate 48.00 MiB (GPU 0; 14.73 GiB total capacity; 13.43 GiB already allocated; 41.88 MiB free; 13.65 GiB reserved in total by PyTorch)"
          ]
        }
      ]
    },
    {
      "cell_type": "code",
      "metadata": {
        "id": "yfBWbNKKiM4f"
      },
      "source": [
        "cnt=0\n",
        "new_features = []\n",
        "for i in train_output:\n",
        "  features = i[0][:,0,:].cpu()\n",
        "  features = features.numpy()\n",
        "  for i in features:\n",
        "    new_features.append(i)\n",
        "  \n",
        "\n"
      ],
      "execution_count": 59,
      "outputs": []
    },
    {
      "cell_type": "code",
      "metadata": {
        "id": "oR0J9-SmnUnV",
        "outputId": "e1873e79-eb7e-46a9-80ff-28a3c57a5fae",
        "colab": {
          "base_uri": "https://localhost:8080/"
        }
      },
      "source": [
        "cnt=0\n",
        "test_features = []\n",
        "for i in test_output:\n",
        "  features = i[0][:,0,:].cpu()\n",
        "  features = features.numpy()\n",
        "  for i in features:\n",
        "    test_features.append(i)"
      ],
      "execution_count": 63,
      "outputs": [
        {
          "output_type": "execute_result",
          "data": {
            "text/plain": [
              "array([-2.17304364e-01,  8.47179517e-02,  1.63688108e-01, -3.66500765e-02,\n",
              "       -2.16246396e-01, -2.78740615e-01,  4.36279744e-01, -2.06701666e-01,\n",
              "        6.21040771e-03, -1.76888689e-01, -6.09901398e-02, -2.51727670e-01,\n",
              "        1.14647165e-01,  1.32618397e-01, -1.77423447e-01,  3.11562508e-01,\n",
              "        1.16026655e-01,  2.42383689e-01,  7.06454217e-02,  4.46858257e-02,\n",
              "        6.53530478e-01, -1.11246951e-01,  1.64320767e-01, -1.34165734e-01,\n",
              "       -4.21838872e-02,  3.24425161e-01,  7.40871355e-02, -1.47542786e-02,\n",
              "        1.03428438e-01,  2.79176950e-01, -2.00479150e-01,  6.39982745e-02,\n",
              "        1.26439378e-01, -2.62474179e-01,  1.17359072e-01,  8.18646699e-02,\n",
              "        3.84590685e-01, -3.15122753e-02,  3.07613939e-01,  8.22491124e-02,\n",
              "        7.90269598e-02, -4.93936092e-02,  7.64893591e-02,  1.18566111e-01,\n",
              "        2.33181491e-02, -7.74493888e-02, -3.09302092e+00,  1.88616980e-02,\n",
              "       -1.30440131e-01, -3.62635821e-01,  3.17654043e-01, -3.84843983e-02,\n",
              "       -2.19293252e-01,  8.54317471e-02,  8.92558321e-02,  1.70314565e-01,\n",
              "        1.83646351e-01,  1.67425379e-01,  9.90777463e-02, -1.84298486e-01,\n",
              "        1.46394193e-01,  1.79839984e-01, -4.03549314e-01,  3.14834565e-02,\n",
              "       -2.48174906e-01,  1.47487253e-01, -3.39671582e-01,  2.07398206e-01,\n",
              "       -4.13626701e-01,  3.83846819e-01, -1.64573357e-01,  1.08470179e-01,\n",
              "        2.79580742e-01,  1.66092604e-01,  1.13391653e-01, -8.24001804e-03,\n",
              "       -7.80861229e-02,  5.36771193e-02,  4.25075442e-01,  6.10192120e-02,\n",
              "        1.71008576e-02, -2.44006723e-01,  1.21932872e-01, -3.54080021e-01,\n",
              "        2.10238814e-01,  1.95617035e-01,  1.72086835e-01,  8.25948024e-04,\n",
              "        1.16608910e-01,  4.09946740e-01,  2.16599882e-01, -2.83779979e-01,\n",
              "        1.12179816e-01,  1.70139134e-01, -1.55297175e-01,  7.36606494e-02,\n",
              "       -1.67219222e-01,  1.56576261e-01,  1.87563032e-01, -2.23349527e-01,\n",
              "        1.07503206e-01,  3.03863287e-01,  1.84758350e-01, -3.16539645e-01,\n",
              "        2.53679574e-01, -1.26579851e-01, -3.67258370e-01,  5.37752658e-02,\n",
              "       -5.20809144e-02, -1.34551239e+00, -8.68648216e-02,  2.24460781e-01,\n",
              "       -2.13704839e-01, -4.24721539e-01,  2.15890631e-01, -1.22202523e-01,\n",
              "        3.59037593e-02,  2.11016238e-01,  7.73244277e-02,  4.72463556e-02,\n",
              "       -7.17224032e-02,  1.48592681e-01, -1.11457422e-01, -1.72029048e-01,\n",
              "       -1.08197719e-01,  1.57790825e-01, -9.60826501e-03, -5.41630268e-01,\n",
              "        4.46093768e-01,  5.05134225e-01, -1.15849085e-01,  1.74789488e-01,\n",
              "       -4.03592348e-01,  2.73579985e-01, -9.40115079e-02,  2.03785449e-02,\n",
              "        1.73931822e-01,  1.71928868e-01, -4.63162959e-02,  6.99132355e-03,\n",
              "       -2.67281383e-01,  2.29614191e-02, -1.46580970e+00,  1.93192244e-01,\n",
              "        2.83474267e-01,  1.56702116e-01,  5.27545623e-03,  3.48406613e-01,\n",
              "       -2.82966122e-02,  1.41329333e-01,  1.15101496e-02, -3.64925653e-01,\n",
              "       -1.06094807e-01, -2.01172650e-01, -2.23517910e-01,  1.46611348e-01,\n",
              "       -1.85203612e-01, -2.86205769e-01,  1.18669011e-01, -1.99904907e-02,\n",
              "       -9.80867147e-02,  1.58365145e-01,  1.04010433e-01, -2.43086547e-01,\n",
              "       -4.48508710e-02, -1.13742083e-01,  1.32410124e-01, -5.80810793e-02,\n",
              "       -1.48643926e-01, -3.28010768e-01,  1.23954815e-04,  3.76181722e-01,\n",
              "        6.13444328e-01, -1.65682733e-01,  6.97010979e-02,  2.16385275e-01,\n",
              "        4.03106697e-02,  1.50508478e-01, -7.53748789e-02,  3.24756326e-03,\n",
              "       -2.20411018e-01,  1.62991211e-01, -1.31671742e-01, -1.58525616e-01,\n",
              "        7.02069923e-02,  2.71355838e-01,  6.61861673e-02,  1.85241535e-01,\n",
              "        2.98293203e-01, -1.61812574e-01, -1.68658346e-01, -2.96324432e-01,\n",
              "        1.76138058e-01,  2.05627799e-01,  5.02310932e-01,  3.95815611e-01,\n",
              "       -5.13785072e-02,  1.51399642e-01,  7.13769197e-02, -1.78553000e-01,\n",
              "       -1.24304242e-01,  1.38436750e-01, -1.06099881e-01,  4.59941059e-01,\n",
              "       -1.40674040e-02,  2.23782969e+00,  1.53509408e-01,  9.38080624e-02,\n",
              "        2.72090316e-01,  8.20359066e-02, -1.22004978e-01, -3.13461751e-01,\n",
              "       -2.92591512e-01, -4.42471094e-02, -1.08284965e-01,  6.89535066e-02,\n",
              "        1.83088362e-01, -5.72537594e-02, -2.95571815e-02, -1.33904949e-01,\n",
              "        2.29151901e-02,  4.15233783e-02, -2.27390856e-01,  1.57135472e-01,\n",
              "       -1.66114736e-02,  2.86961287e-01, -1.82965882e-02, -2.01114625e-01,\n",
              "       -1.42479464e-01, -1.05176115e+00,  1.90451637e-01, -2.46977746e-01,\n",
              "        2.96509601e-02, -4.41372842e-02, -3.08469594e-01, -2.13839516e-01,\n",
              "        5.60457967e-02, -1.69254765e-01, -3.31147201e-02, -1.47290051e-01,\n",
              "       -1.76967308e-01,  1.90881923e-01,  1.63417548e-01, -2.62553394e-01,\n",
              "       -7.85623044e-02, -1.65009703e-02,  1.48868099e-01, -2.26168856e-01,\n",
              "        1.06051862e-01, -1.38169557e-01,  1.60231516e-01,  9.85978916e-02,\n",
              "        4.72135432e-02, -3.17522064e-02,  4.43078935e-01, -6.82928115e-02,\n",
              "        3.69096518e-01,  1.50803402e-01, -8.42712671e-02, -2.72448957e-01,\n",
              "       -1.92667454e-01, -1.48221463e-01,  1.89655215e-01, -1.10609774e-02,\n",
              "       -2.52907306e-01, -1.48813829e-01,  7.71609321e-02, -1.04992084e-01,\n",
              "        3.17014754e-01, -3.79923880e-02, -3.84971350e-02,  1.94647059e-01,\n",
              "       -5.18631220e-01, -1.49772573e+00, -7.46808276e-02, -4.30675969e-02,\n",
              "        4.99396354e-01, -1.23194560e-01,  1.19352177e-01, -1.55063361e-01,\n",
              "        5.24015166e-02,  1.75467208e-02, -4.07655258e-03,  4.40283976e-02,\n",
              "       -5.00935577e-02, -1.26091361e-01,  3.14726569e-02, -2.22604588e-01,\n",
              "        6.92965448e-01, -6.12402447e-02, -1.14169933e-01,  2.56978393e-01,\n",
              "       -5.33035472e-02, -1.19191587e-01,  2.50567608e-02, -1.87576234e-01,\n",
              "        1.21596113e-01, -1.31596103e-01,  2.19976589e-01, -2.24010900e-01,\n",
              "       -8.60714853e-01, -2.33959202e-02,  1.10794298e-01,  2.54121311e-02,\n",
              "        4.08194661e-02,  8.85391980e-02, -1.60987914e-01,  2.62611639e-02,\n",
              "       -4.56691933e+00,  9.08658877e-02, -1.40956134e-01, -4.64466542e-01,\n",
              "        3.17662060e-01,  1.02299258e-01,  2.52356887e-01,  1.39076278e-01,\n",
              "       -1.61475673e-01, -8.34732652e-02,  4.93087471e-02,  1.77191962e-02,\n",
              "       -1.33837149e-01,  3.19983810e-02, -3.56922597e-02, -9.17252898e-02,\n",
              "        4.65894431e-01,  1.32031024e-01, -1.00039013e-01,  2.24825963e-01,\n",
              "       -1.15547061e-01,  5.98848462e-02,  2.83455819e-01, -2.78602540e-02,\n",
              "        2.92699605e-01,  2.87155956e-01, -4.46357548e-01, -1.68173775e-01,\n",
              "        1.03297353e-01, -3.20868224e-01,  3.42600271e-02, -3.07406008e-01,\n",
              "        1.42670721e-02,  5.45241714e-01, -2.88764626e-01, -6.77696243e-02,\n",
              "       -1.10185534e-01, -7.33436868e-02,  4.07515377e-01, -7.62652084e-02,\n",
              "        5.11858575e-02,  2.42669001e-01,  1.41717777e-01, -1.68325514e-01,\n",
              "        4.16437626e-01,  3.87301072e-02,  1.08173370e-01,  4.08935517e-01,\n",
              "        6.96242601e-02,  1.26704380e-01, -5.91496341e-02, -1.91989653e-02,\n",
              "        7.43833721e-01, -9.94945094e-02,  4.20141406e-02,  3.24613065e-03,\n",
              "        1.27282232e-01, -2.64218356e-02, -5.18475473e-02, -2.97516230e-02,\n",
              "        4.47734237e-01, -2.27202326e-01,  7.31620565e-02, -7.68326521e-02,\n",
              "        2.18837842e-01, -2.21738830e-01,  5.80199182e-01,  3.72149684e-02,\n",
              "       -3.87428820e-01,  2.59211302e-01, -3.70265663e-01,  2.17538983e-01,\n",
              "        1.02713503e-01, -3.88123780e-01,  2.29616255e-01, -7.09398165e-02,\n",
              "       -5.81862144e-02, -2.45227683e-02,  7.66275153e-02,  3.78564030e-01,\n",
              "       -3.32630217e-01,  7.01488405e-02,  5.43662868e-02,  4.18596953e-01,\n",
              "       -3.22146773e-01,  1.90184772e-01, -6.86022043e-02, -2.21446380e-02,\n",
              "       -3.23450059e-01,  1.26457095e-01, -1.30811244e-01, -1.67741299e-01,\n",
              "        1.57117620e-01, -7.80806020e-02,  1.55296370e-01,  1.05164632e-01,\n",
              "        2.28737548e-01, -3.82202804e-01,  1.91152945e-01, -3.36975187e-01,\n",
              "        5.81915565e-02, -2.77488887e-01,  3.58306281e-02, -1.63727984e-01,\n",
              "       -8.95483792e-02, -2.28223026e-01, -3.57899696e-01,  4.30952124e-02,\n",
              "        1.58321470e-01,  7.92496130e-02, -4.23119031e-02,  3.33110690e-01,\n",
              "       -1.56527445e-01,  2.23471224e-01,  9.61896598e-01, -4.20985460e-01,\n",
              "        6.07600622e-02,  2.57567644e-01,  2.09828243e-01, -7.84696192e-02,\n",
              "        2.98501514e-02, -1.30854875e-01,  8.92072394e-02, -1.52783334e-01,\n",
              "       -3.55698496e-01,  9.44919959e-02,  9.45442244e-02, -1.92718342e-01,\n",
              "       -1.25198692e-01, -9.02741477e-02,  1.53009981e-01,  6.04485422e-02,\n",
              "       -2.88807929e-01, -3.58872116e-01, -7.16872215e-02, -2.93112725e-01,\n",
              "       -2.75319666e-01,  8.06344580e-03,  1.94251567e-01,  1.09841011e-01,\n",
              "        4.19373363e-01, -1.87125672e-02, -1.92451745e-01,  2.34486088e-01,\n",
              "        2.08495200e-01,  3.15713972e-01,  1.97277844e-01, -1.02656163e-01,\n",
              "        6.94141258e-03,  2.79027909e-01, -9.95890275e-02, -3.52587163e-01,\n",
              "        2.41032586e-01, -3.89356613e-01,  3.05315048e-01,  3.92801225e-01,\n",
              "        3.95081230e-02,  4.22000623e-04, -2.32670262e-01, -2.40882114e-01,\n",
              "        1.90078482e-01,  7.02712759e-02, -1.64387178e+00,  3.24940830e-01,\n",
              "        1.40812136e-02,  9.39378589e-02, -5.18096723e-02, -3.79563838e-01,\n",
              "       -1.53323412e-01,  2.65426606e-01,  1.28693327e-01,  1.67428061e-01,\n",
              "       -1.49354354e-01, -1.38991207e-01,  8.66915211e-02,  3.11351269e-01,\n",
              "        2.35246718e-02, -1.99144147e-02,  3.70009765e-02, -1.61835685e-01,\n",
              "       -1.02354966e-01,  2.09220096e-01, -1.16848163e-01,  6.24266088e-01,\n",
              "       -1.41210128e-02,  6.43467382e-02,  4.59017195e-02, -1.64820001e-01,\n",
              "        3.33141140e-03,  3.84566098e-01,  1.95496738e-01,  8.49548131e-02,\n",
              "        1.62318274e-01, -2.94538081e-01,  1.40432626e-01,  2.00513899e-01,\n",
              "        7.35207438e-01,  3.51875216e-01, -5.28602935e-02,  1.64628744e-01,\n",
              "        2.50898805e-02,  2.40507886e-01, -9.93595570e-02,  3.68059605e-01,\n",
              "        6.25167131e-01, -3.89902806e-03,  3.22263926e-01,  1.44523665e-01,\n",
              "       -2.02685326e-01, -2.08263576e-01,  2.05789715e-01, -1.53043613e-01,\n",
              "        1.04769744e-01,  2.18561903e-01,  3.32114905e-01, -2.67855078e-01,\n",
              "       -2.31085613e-01, -1.05770484e-01, -3.32513809e-01, -1.86954454e-01,\n",
              "        1.42001525e-01, -2.83143371e-01,  2.53668249e-01, -3.89880359e-01,\n",
              "        1.93852916e-01,  1.89595297e-01, -1.81849495e-01, -4.65207994e-01,\n",
              "        2.24659815e-01, -7.58390501e-02, -6.92443252e-02, -3.24166954e-01,\n",
              "        1.47224993e-01, -7.15718046e-02, -2.56964952e-01,  1.83552951e-01,\n",
              "       -2.37609874e-02, -2.24587858e-01,  3.61204714e-01,  2.60507882e-01,\n",
              "       -6.25906363e-02, -3.69616449e-01,  6.26019463e-02, -6.37888253e-01,\n",
              "       -1.90703452e-01,  2.53899872e-01,  1.85220331e-01,  1.20949186e-01,\n",
              "        1.59666270e-01,  5.36592454e-02,  3.12902689e-01, -1.64059147e-01,\n",
              "       -3.22274715e-01, -4.28989172e-01, -4.84551042e-02,  7.62848035e-02,\n",
              "        8.71941596e-02, -1.08969547e-01, -4.16766144e-02, -1.11655213e-01,\n",
              "       -3.03154379e-01,  1.24797724e-01, -1.37236729e-01, -6.67698011e-02,\n",
              "       -7.98130035e-02,  5.14265336e-02,  1.76550493e-01,  1.65164709e-01,\n",
              "        1.60945237e-01, -2.24778533e-01, -2.22700775e-01,  2.22956166e-02,\n",
              "        1.37593567e-01, -1.39231294e-01,  3.41385528e-02,  1.29097149e-01,\n",
              "        8.84614587e-02, -1.35921538e-02, -6.86498135e-02,  1.10588390e-02,\n",
              "        9.62066948e-01,  2.36675188e-01,  1.57524467e-01,  1.24260955e-01,\n",
              "        2.95541495e-01,  2.38718122e-01, -3.36176157e-01, -2.34586433e-01,\n",
              "        8.16347599e-02,  8.43542963e-02, -1.46240056e-01, -1.20423466e-01,\n",
              "       -4.07274067e-02, -1.20269708e-01,  2.47894213e-01,  3.38522673e-01,\n",
              "       -2.77117901e-02,  5.27863689e-02, -2.96089172e-01, -9.10640229e-03,\n",
              "       -1.12180866e-01,  1.02672569e-01,  1.63316444e-01, -2.57571757e-01,\n",
              "       -5.15613779e-02,  1.04700930e-01,  5.14538959e-02, -8.69862363e-02,\n",
              "       -1.10800015e-02,  7.81314913e-03, -3.21247838e-02,  2.07242668e-01,\n",
              "        2.86832720e-01,  1.53436586e-01, -1.34440556e-01, -2.32199982e-01,\n",
              "       -1.60269618e-01, -5.84866777e-02, -1.59587026e-01,  2.90403813e-01,\n",
              "        1.09380685e-01,  6.16317131e-02,  5.75250804e-01,  6.49536680e-03,\n",
              "        2.05075100e-01,  1.15106724e-01,  5.30859381e-02, -3.22692066e-01,\n",
              "        2.28699744e-01,  3.78162533e-01, -1.17917433e-01, -3.48858356e-01,\n",
              "       -8.91109183e-02, -3.20842057e-01, -1.72883928e-01,  2.90502626e-02,\n",
              "       -1.81316957e-01, -3.78033161e-01,  6.66230172e-02,  4.79621857e-01,\n",
              "       -5.95381670e-02,  3.95221621e-01,  3.58929813e-01, -6.09233081e-01,\n",
              "       -9.47527960e-03, -5.60637750e-02, -2.15628117e-01,  5.56151662e-03,\n",
              "        1.25998020e-01, -8.84297714e-02, -3.84489563e-03,  3.24758798e-01,\n",
              "        1.89574569e-01,  2.16334518e-02,  8.37218016e-02,  1.01649307e-01,\n",
              "        2.30487093e-01, -8.62221196e-02, -2.00212345e-01, -1.44931591e+00,\n",
              "        1.41176417e-01,  6.39364943e-02,  4.10363436e-01,  1.55381531e-01,\n",
              "        2.98026595e-02, -1.42794237e-01, -2.05751121e-01, -1.98130701e-02,\n",
              "        1.60277665e-01,  2.07219392e-01,  2.20424131e-01,  1.52436748e-01,\n",
              "       -4.12954800e-02,  1.81587022e-02,  8.89430270e-02, -2.16011897e-01,\n",
              "       -2.54399151e-01, -9.75639597e-02, -5.62569797e-02,  2.41921797e-01,\n",
              "        1.93813279e-01, -2.20654860e-01, -1.82220548e-01, -2.22970605e-01,\n",
              "        3.13807338e-01,  2.64222652e-01, -3.62765878e-01,  4.01418693e-02,\n",
              "        3.72838527e-02, -1.20286010e-02,  1.59791350e-01, -2.02048868e-01,\n",
              "        3.50854620e-02,  2.05303326e-01, -5.69183417e-02,  1.31630599e-01,\n",
              "       -3.60676408e-01, -1.45125315e-01,  2.84542620e-01, -3.42158079e-01,\n",
              "        3.39060485e-01, -8.35453719e-02,  3.62340391e-01, -9.62900221e-02,\n",
              "        3.52056623e-01,  8.44460577e-02, -2.18903586e-01,  5.10417342e-01,\n",
              "       -3.98153588e-02,  1.47412583e-01, -2.71180570e-01, -3.29280645e-02,\n",
              "        7.59287388e-04,  2.98062451e-02,  8.42590183e-02, -1.06282979e-01,\n",
              "       -3.28599364e-01, -2.36525666e-02, -2.21847892e-01, -3.17257285e-01,\n",
              "       -1.26738980e-01, -1.25352859e-01,  1.69158071e-01,  8.41046572e-02,\n",
              "       -4.44681108e-01, -5.17464578e-01,  3.69035959e-01, -2.08974376e-01,\n",
              "       -4.17052418e-01, -4.05167788e-02, -1.56092390e-01, -7.68140405e-02,\n",
              "       -2.04048887e-01,  9.84814838e-02, -8.87713060e-02,  5.88654876e-02,\n",
              "        3.06035697e-01,  2.48013094e-01,  4.85801518e-01, -4.88087311e-02,\n",
              "        6.23217523e-02,  1.90990046e-02, -1.10280499e-01,  3.71582538e-01,\n",
              "       -3.33375907e+00, -1.51791096e-01, -2.97913074e-01, -1.07555605e-01,\n",
              "       -4.08137828e-01, -2.08167657e-01,  1.27010375e-01, -9.45444107e-02,\n",
              "        4.26086560e-02, -5.50341196e-02,  2.30549529e-01, -5.28906956e-02,\n",
              "       -3.86383384e-01,  9.73371714e-02,  3.70192736e-01,  4.30507436e-02],\n",
              "      dtype=float32)"
            ]
          },
          "metadata": {
            "tags": []
          },
          "execution_count": 63
        }
      ]
    },
    {
      "cell_type": "code",
      "metadata": {
        "id": "VrMBaPu6zABg"
      },
      "source": [
        "import numpy as np\n",
        "import pandas as pd\n",
        "from sklearn.model_selection import train_test_split\n",
        "from sklearn.linear_model import LogisticRegression\n",
        "from sklearn.model_selection import GridSearchCV\n",
        "from sklearn.model_selection import cross_val_score\n",
        "import torch\n",
        "import transformers as ppb\n",
        "import warnings\n",
        "warnings.filterwarnings('ignore')"
      ],
      "execution_count": null,
      "outputs": []
    },
    {
      "cell_type": "code",
      "metadata": {
        "id": "q4MHYErjaENK"
      },
      "source": [
        ""
      ],
      "execution_count": null,
      "outputs": []
    },
    {
      "cell_type": "code",
      "metadata": {
        "id": "GExNRdcPZl7y"
      },
      "source": [
        ""
      ],
      "execution_count": null,
      "outputs": []
    },
    {
      "cell_type": "code",
      "metadata": {
        "id": "JW3_9uEnY1Y6"
      },
      "source": [
        ""
      ],
      "execution_count": null,
      "outputs": []
    },
    {
      "cell_type": "code",
      "metadata": {
        "id": "A3jlHr98zCv7"
      },
      "source": [
        "\n",
        "\n",
        "\n",
        "# For DistilBERT:\n",
        "model_class, tokenizer_class, pretrained_weights = (ppb.DistilBertModel, ppb.DistilBertTokenizer, 'distilbert-base-uncased')\n",
        "\n",
        "## Want BERT instead of distilBERT? Uncomment the following line:\n",
        "#model_class, tokenizer_class, pretrained_weights = (ppb.BertModel, ppb.BertTokenizer, 'bert-base-uncased')\n",
        "\n",
        "# Load pretrained model/tokenizer\n",
        "tokenizer = tokenizer_class.from_pretrained(pretrained_weights)\n",
        "model = model_class.from_pretrained(pretrained_weights)\n",
        "\n"
      ],
      "execution_count": null,
      "outputs": []
    },
    {
      "cell_type": "code",
      "metadata": {
        "id": "nrDlLJCdzFwK"
      },
      "source": [
        "train_batch = train\n",
        "test_batch = test\n",
        "\n",
        "train_tokenized = train_batch['sentences'].apply((lambda x: tokenizer.encode(x, add_special_tokens=True,max_length=70,truncation=True)))\n",
        "test_tokenized = test_batch['sentences'].apply((lambda x: tokenizer.encode(x, add_special_tokens=True,max_length=70,truncation=True)))"
      ],
      "execution_count": null,
      "outputs": []
    },
    {
      "cell_type": "code",
      "metadata": {
        "id": "TOAcptkTzPLj"
      },
      "source": [
        "\"\"\"Padding the sentences\"\"\"\n",
        "train_max_len = 0\n",
        "for i in train_tokenized.values:\n",
        "    if len(i) > train_max_len:\n",
        "        train_max_len = len(i)\n",
        "\n",
        "train_padded = np.array([i + [0]*(train_max_len-len(i)) for i in train_tokenized.values])\n"
      ],
      "execution_count": null,
      "outputs": []
    },
    {
      "cell_type": "code",
      "metadata": {
        "id": "FwWR0zfv3_1i",
        "outputId": "0506bb68-f3d6-4ff6-e472-36598579e572",
        "colab": {
          "base_uri": "https://localhost:8080/"
        }
      },
      "source": [
        "len(train_tokenized[200])"
      ],
      "execution_count": null,
      "outputs": [
        {
          "output_type": "execute_result",
          "data": {
            "text/plain": [
              "70"
            ]
          },
          "metadata": {
            "tags": []
          },
          "execution_count": 14
        }
      ]
    },
    {
      "cell_type": "code",
      "metadata": {
        "id": "gPG9ydL9zTH0"
      },
      "source": [
        "test_max_len = 0\n",
        "for i in test_tokenized.values:\n",
        "    if len(i) > test_max_len:\n",
        "        test_max_len = len(i)\n",
        "\n",
        "test_padded = np.array([i + [0]*(test_max_len-len(i)) for i in test_tokenized.values])\n"
      ],
      "execution_count": null,
      "outputs": []
    },
    {
      "cell_type": "code",
      "metadata": {
        "id": "jnSEfco_zZa4"
      },
      "source": [
        "train_attention_mask = np.where(train_padded != 0, 1, 0)\n",
        "\n",
        "test_attention_mask = np.where(test_padded != 0, 1, 0)"
      ],
      "execution_count": null,
      "outputs": []
    },
    {
      "cell_type": "code",
      "metadata": {
        "id": "gZE176rn1FSH"
      },
      "source": [
        "train_input_ids = torch.tensor(train_padded)  \n",
        "train_attention_mask = torch.tensor(train_attention_mask)\n",
        "\n"
      ],
      "execution_count": null,
      "outputs": []
    },
    {
      "cell_type": "code",
      "metadata": {
        "id": "1_FcDhSUUsei",
        "outputId": "546afb8d-18fe-4f7b-da2d-0ba5379a3926",
        "colab": {
          "base_uri": "https://localhost:8080/"
        }
      },
      "source": [
        "len(train_input_ids)"
      ],
      "execution_count": null,
      "outputs": [
        {
          "output_type": "execute_result",
          "data": {
            "text/plain": [
              "11099"
            ]
          },
          "metadata": {
            "tags": []
          },
          "execution_count": 19
        }
      ]
    },
    {
      "cell_type": "code",
      "metadata": {
        "id": "dVUoODgdSAXN"
      },
      "source": [
        "top_train_input_ids = train_input_ids[0:2000,:]\n",
        "top_train_attention_mask = train_attention_mask[0:2000,:]\n",
        " \n"
      ],
      "execution_count": null,
      "outputs": []
    },
    {
      "cell_type": "code",
      "metadata": {
        "id": "O4QUwy9I6dA6"
      },
      "source": [
        "with torch.no_grad():\n",
        "    top_train_last_hidden_states = model(top_train_input_ids, attention_mask=top_train_attention_mask)"
      ],
      "execution_count": null,
      "outputs": []
    },
    {
      "cell_type": "code",
      "metadata": {
        "id": "Kv8k0FxfYQus",
        "outputId": "05098c3f-8886-4441-eccd-f1817efdf37f",
        "colab": {
          "base_uri": "https://localhost:8080/",
          "height": 162
        }
      },
      "source": [
        ""
      ],
      "execution_count": null,
      "outputs": [
        {
          "output_type": "error",
          "ename": "AttributeError",
          "evalue": "ignored",
          "traceback": [
            "\u001b[0;31m---------------------------------------------------------------------------\u001b[0m",
            "\u001b[0;31mAttributeError\u001b[0m                            Traceback (most recent call last)",
            "\u001b[0;32m<ipython-input-22-836b53360d9a>\u001b[0m in \u001b[0;36m<module>\u001b[0;34m()\u001b[0m\n\u001b[0;32m----> 1\u001b[0;31m \u001b[0;34m(\u001b[0m\u001b[0mtop_train_last_hidden_states\u001b[0m\u001b[0;34m)\u001b[0m\u001b[0;34m.\u001b[0m\u001b[0mshape\u001b[0m\u001b[0;34m\u001b[0m\u001b[0;34m\u001b[0m\u001b[0m\n\u001b[0m",
            "\u001b[0;31mAttributeError\u001b[0m: 'tuple' object has no attribute 'shape'"
          ]
        }
      ]
    },
    {
      "cell_type": "code",
      "metadata": {
        "id": "6TDUV2Ll1egp"
      },
      "source": [
        "test_input_ids = torch.tensor(test_padded)  \n",
        "test_attention_mask = torch.tensor(test_attention_mask)\n",
        "\n",
        "with torch.no_grad():\n",
        "    test_last_hidden_states = model(test_input_ids, attention_mask=test_attention_mask)"
      ],
      "execution_count": null,
      "outputs": []
    }
  ]
}